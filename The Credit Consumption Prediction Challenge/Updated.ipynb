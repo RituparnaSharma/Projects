{
 "cells": [
  {
   "cell_type": "code",
   "execution_count": 41,
   "metadata": {},
   "outputs": [],
   "source": [
    "import pandas as pd\n",
    "from sklearn import preprocessing\n",
    "import seaborn as sns\n",
    "import matplotlib.pyplot as plt\n",
    "import numpy as np\n",
    "from sklearn.model_selection import train_test_split\n",
    "from sklearn.ensemble import RandomForestRegressor\n",
    "from sklearn.linear_model import Lasso\n",
    "from sklearn.linear_model import RidgeCV, LassoCV\n",
    "import lightgbm as lgb\n",
    "from sklearn.feature_selection import SelectFromModel\n",
    "from sklearn.model_selection import GridSearchCV\n",
    "from sklearn.feature_selection import RFE\n",
    "from sklearn import metrics\n",
    "from sklearn import ensemble\n",
    "from yellowbrick.regressor import ResidualsPlot\n",
    "from sklearn.tree import DecisionTreeRegressor\n",
    "from sklearn.linear_model import LinearRegression\n",
    "from sklearn.preprocessing import StandardScaler\n",
    "from sklearn.preprocessing import MinMaxScaler\n",
    "from scipy.stats.mstats import winsorize\n",
    "import warnings\n",
    "warnings.filterwarnings('ignore')"
   ]
  },
  {
   "cell_type": "code",
   "execution_count": 40,
   "metadata": {},
   "outputs": [
    {
     "name": "stdout",
     "output_type": "stream",
     "text": [
      "Collecting lightgbm\n",
      "  Downloading https://files.pythonhosted.org/packages/1f/cb/a8ec24334c35a7d0c87b4e4e056bd2137573c7c1bd81c760b79a2f370254/lightgbm-2.3.1-py2.py3-none-win_amd64.whl (544kB)\n",
      "Requirement already satisfied: scipy in c:\\users\\sufyan\\anaconda3\\lib\\site-packages (from lightgbm) (1.2.1)\n",
      "Requirement already satisfied: numpy in c:\\users\\sufyan\\anaconda3\\lib\\site-packages (from lightgbm) (1.16.4)\n",
      "Requirement already satisfied: scikit-learn in c:\\users\\sufyan\\anaconda3\\lib\\site-packages (from lightgbm) (0.21.2)\n",
      "Requirement already satisfied: joblib>=0.11 in c:\\users\\sufyan\\anaconda3\\lib\\site-packages (from scikit-learn->lightgbm) (0.13.2)\n",
      "Installing collected packages: lightgbm\n",
      "Successfully installed lightgbm-2.3.1\n",
      "Note: you may need to restart the kernel to use updated packages.\n"
     ]
    }
   ],
   "source": []
  },
  {
   "cell_type": "code",
   "execution_count": 2,
   "metadata": {},
   "outputs": [],
   "source": [
    "data = pd.read_csv('Train.csv')"
   ]
  },
  {
   "cell_type": "code",
   "execution_count": 3,
   "metadata": {},
   "outputs": [],
   "source": [
    "#function for dropping columns\n",
    "def drop_col(df,col_list):\n",
    "    for col in col_list:\n",
    "        if col in df.columns:\n",
    "            df.drop(col, axis = 1, inplace=True)\n",
    "    return df\n",
    "\n",
    "def plot_scatter(dataframe, target_col):\n",
    "    plt.figure()\n",
    "    for col in dataframe.columns:\n",
    "        if col != target_col:\n",
    "            plt.figure(figsize=(12,7))\n",
    "            plt.scatter(x=dataframe[col], y=dataframe[target_col])\n",
    "            plt.xlabel(col)\n",
    "            plt.ylabel(target_col)\n",
    "            \n",
    "#outlier analysis\n",
    "def plot_boxplots(dataframe):\n",
    "    for col in dataframe.columns:\n",
    "        plt.figure()\n",
    "        dataframe.boxplot([col])\n",
    "        \n",
    "#checking the number of rows for each variable that fall outside 3*IQR range\n",
    "def get_outliers_count(dataframe):\n",
    "    count = {}\n",
    "    for col in dataframe.columns:\n",
    "        sorted_col = sorted(dataframe[col])\n",
    "        Q1,Q3 = np.percentile(sorted_col , [25,75])\n",
    "        IQR = Q3 - Q1\n",
    "        lower_range = Q1 - (3 * IQR)\n",
    "        upper_range = Q3 + (3 * IQR)    \n",
    "        outliers_df = dataframe[(dataframe[col] > upper_range) | (dataframe[col] < lower_range)]\n",
    "        count[col] = outliers_df[col].count()\n",
    "    return count\n",
    "\n",
    "#removes outliers which are not in 3*IQR range\n",
    "def remove_outliers(dataframe, column):\n",
    "    sorted_col = sorted(dataframe[column])\n",
    "    Q1,Q3 = np.percentile(sorted_col , [25,75])\n",
    "    IQR = Q3 - Q1\n",
    "    lower_range = Q1 - (3 * IQR)\n",
    "    upper_range = Q3 + (3 * IQR)  \n",
    "    print(lower_range)\n",
    "    print(upper_range)\n",
    "    dataframe_out = dataframe[(dataframe[column] > lower_range) & (dataframe[column] < upper_range)]\n",
    "    return dataframe_out\n",
    "\n",
    "def rmsle(actual_column, predicted_column):\n",
    "    sum=0.0\n",
    "    for x,y in zip(actual_column,predicted_column):\n",
    "        if x<0 or y<0: #check for negative values. \n",
    "            continue\n",
    "        p = np.log(y+1)\n",
    "        r = np.log(x+1)\n",
    "        sum = sum + (p - r)**2\n",
    "    return (sum/len(predicted_column))**0.5\n",
    "\n",
    "def treat_outliers(dataframe, col_list):\n",
    "    for col in col_list:\n",
    "        dataframe[col] = winsorize(dataframe[col], limits=[0.05, 0.05],inclusive=(True, True))\n",
    "    return dataframe\n",
    "\n",
    "#for other variables using standard scaler\n",
    "def scale(dataframe, cols_list):\n",
    "    scaler = StandardScaler()\n",
    "    dataframe[cols_list] = scaler.fit_transform(dataframe[cols_list])\n",
    "    return dataframe,scaler"
   ]
  },
  {
   "cell_type": "code",
   "execution_count": 4,
   "metadata": {},
   "outputs": [],
   "source": [
    "not_req = ['ID','region_code','personal_loan_active','vehicle_loan_active','personal_loan_closed','vehicle_loan_closed','loan_enq']\n",
    "\n",
    "numerical_cols = ['age', 'cc_cons_apr', 'dc_cons_apr', 'cc_cons_may', 'dc_cons_may',\n",
    "       'cc_cons_jun', 'dc_cons_jun', 'cc_count_apr', 'cc_count_may',\n",
    "       'cc_count_jun', 'dc_count_apr', 'dc_count_may', 'dc_count_jun',\n",
    "       'card_lim', 'investment_1', 'investment_2', 'investment_3',\n",
    "       'investment_4', 'debit_amount_apr', 'credit_amount_apr',\n",
    "       'debit_count_apr', 'credit_count_apr', 'max_credit_amount_apr',\n",
    "       'debit_amount_may', 'credit_amount_may', 'credit_count_may',\n",
    "       'debit_count_may', 'max_credit_amount_may', 'debit_amount_jun',\n",
    "       'credit_amount_jun', 'credit_count_jun', 'debit_count_jun',\n",
    "       'max_credit_amount_jun', 'emi_active']\n",
    "\n",
    "def custom_pipeline(dataframe, scaler):\n",
    "    #dropping unnecessary columns\n",
    "    not_req = ['ID','region_code','personal_loan_active','vehicle_loan_active','personal_loan_closed','vehicle_loan_closed','loan_enq']\n",
    "    dataframe = dataframe.drop(not_req, axis=1)\n",
    "    \n",
    "    #one hot encoding on categorical data\n",
    "    dataframe = pd.get_dummies(data=dataframe, columns=['account_type', 'gender'])\n",
    "    \n",
    "    #list of numerical and categorical columns\n",
    "    numerical_cols = ['age', 'cc_cons_apr', 'dc_cons_apr', 'cc_cons_may', 'dc_cons_may',\n",
    "       'cc_cons_jun', 'dc_cons_jun', 'cc_count_apr', 'cc_count_may',\n",
    "       'cc_count_jun', 'dc_count_apr', 'dc_count_may', 'dc_count_jun',\n",
    "       'card_lim', 'investment_1', 'investment_2', 'investment_3',\n",
    "       'investment_4', 'debit_amount_apr', 'credit_amount_apr',\n",
    "       'debit_count_apr', 'credit_count_apr', 'max_credit_amount_apr',\n",
    "       'debit_amount_may', 'credit_amount_may', 'credit_count_may',\n",
    "       'debit_count_may', 'max_credit_amount_may', 'debit_amount_jun',\n",
    "       'credit_amount_jun', 'credit_count_jun', 'debit_count_jun',\n",
    "       'max_credit_amount_jun', 'emi_active']\n",
    "    cat_cols = ['account_type_current','account_type_saving','gender_F','gender_M']\n",
    "    \n",
    "    #scaling on test data using same scaler used to fit on train data\n",
    "    dataframe['investment_4'] = dataframe['investment_4'] - dataframe['investment_4'].min()\n",
    "    dataframe[numerical_cols] = np.log1p(dataframe[numerical_cols])\n",
    "    dataframe[numerical_cols] = scaler.transform(dataframe[numerical_cols])\n",
    "    return dataframe"
   ]
  },
  {
   "cell_type": "code",
   "execution_count": 5,
   "metadata": {},
   "outputs": [],
   "source": [
    "#removing unwanted columns \n",
    "data = drop_col(data, not_req)"
   ]
  },
  {
   "cell_type": "code",
   "execution_count": 6,
   "metadata": {},
   "outputs": [
    {
     "data": {
      "text/html": [
       "<div>\n",
       "<style scoped>\n",
       "    .dataframe tbody tr th:only-of-type {\n",
       "        vertical-align: middle;\n",
       "    }\n",
       "\n",
       "    .dataframe tbody tr th {\n",
       "        vertical-align: top;\n",
       "    }\n",
       "\n",
       "    .dataframe thead th {\n",
       "        text-align: right;\n",
       "    }\n",
       "</style>\n",
       "<table border=\"1\" class=\"dataframe\">\n",
       "  <thead>\n",
       "    <tr style=\"text-align: right;\">\n",
       "      <th></th>\n",
       "      <th>age</th>\n",
       "      <th>cc_cons_apr</th>\n",
       "      <th>dc_cons_apr</th>\n",
       "      <th>cc_cons_may</th>\n",
       "      <th>dc_cons_may</th>\n",
       "      <th>cc_cons_jun</th>\n",
       "      <th>dc_cons_jun</th>\n",
       "      <th>cc_count_apr</th>\n",
       "      <th>cc_count_may</th>\n",
       "      <th>cc_count_jun</th>\n",
       "      <th>...</th>\n",
       "      <th>credit_amount_jun</th>\n",
       "      <th>credit_count_jun</th>\n",
       "      <th>debit_count_jun</th>\n",
       "      <th>max_credit_amount_jun</th>\n",
       "      <th>emi_active</th>\n",
       "      <th>cc_cons</th>\n",
       "      <th>account_type_current</th>\n",
       "      <th>account_type_saving</th>\n",
       "      <th>gender_F</th>\n",
       "      <th>gender_M</th>\n",
       "    </tr>\n",
       "  </thead>\n",
       "  <tbody>\n",
       "    <tr>\n",
       "      <th>0</th>\n",
       "      <td>35</td>\n",
       "      <td>24893.00</td>\n",
       "      <td>378.00</td>\n",
       "      <td>10288.00</td>\n",
       "      <td>29664.00</td>\n",
       "      <td>16291.40</td>\n",
       "      <td>11432.00</td>\n",
       "      <td>2.0</td>\n",
       "      <td>26.0</td>\n",
       "      <td>10.0</td>\n",
       "      <td>...</td>\n",
       "      <td>12761.0</td>\n",
       "      <td>2.0</td>\n",
       "      <td>65.0</td>\n",
       "      <td>50836.0</td>\n",
       "      <td>1674.09</td>\n",
       "      <td>20014.0</td>\n",
       "      <td>1</td>\n",
       "      <td>0</td>\n",
       "      <td>0</td>\n",
       "      <td>1</td>\n",
       "    </tr>\n",
       "    <tr>\n",
       "      <th>1</th>\n",
       "      <td>35</td>\n",
       "      <td>18941.62</td>\n",
       "      <td>966.00</td>\n",
       "      <td>20672.00</td>\n",
       "      <td>287.00</td>\n",
       "      <td>4217.00</td>\n",
       "      <td>885.00</td>\n",
       "      <td>1.0</td>\n",
       "      <td>7.0</td>\n",
       "      <td>13.0</td>\n",
       "      <td>...</td>\n",
       "      <td>76206.0</td>\n",
       "      <td>21.0</td>\n",
       "      <td>63.0</td>\n",
       "      <td>23226.0</td>\n",
       "      <td>13043.34</td>\n",
       "      <td>10173.0</td>\n",
       "      <td>1</td>\n",
       "      <td>0</td>\n",
       "      <td>0</td>\n",
       "      <td>1</td>\n",
       "    </tr>\n",
       "    <tr>\n",
       "      <th>2</th>\n",
       "      <td>55</td>\n",
       "      <td>5678.87</td>\n",
       "      <td>2724.00</td>\n",
       "      <td>1964.50</td>\n",
       "      <td>3933.11</td>\n",
       "      <td>23956.25</td>\n",
       "      <td>5168.00</td>\n",
       "      <td>43.0</td>\n",
       "      <td>32.0</td>\n",
       "      <td>102.0</td>\n",
       "      <td>...</td>\n",
       "      <td>75283.0</td>\n",
       "      <td>7.0</td>\n",
       "      <td>1.0</td>\n",
       "      <td>27036.0</td>\n",
       "      <td>25375.27</td>\n",
       "      <td>16095.0</td>\n",
       "      <td>1</td>\n",
       "      <td>0</td>\n",
       "      <td>0</td>\n",
       "      <td>1</td>\n",
       "    </tr>\n",
       "    <tr>\n",
       "      <th>3</th>\n",
       "      <td>29</td>\n",
       "      <td>30489.50</td>\n",
       "      <td>1236.00</td>\n",
       "      <td>12609.88</td>\n",
       "      <td>9138.14</td>\n",
       "      <td>17521.00</td>\n",
       "      <td>13650.30</td>\n",
       "      <td>53.0</td>\n",
       "      <td>1.0</td>\n",
       "      <td>50.0</td>\n",
       "      <td>...</td>\n",
       "      <td>68708.0</td>\n",
       "      <td>21.0</td>\n",
       "      <td>83.0</td>\n",
       "      <td>43037.0</td>\n",
       "      <td>3544.33</td>\n",
       "      <td>7707.0</td>\n",
       "      <td>1</td>\n",
       "      <td>0</td>\n",
       "      <td>1</td>\n",
       "      <td>0</td>\n",
       "    </tr>\n",
       "    <tr>\n",
       "      <th>4</th>\n",
       "      <td>34</td>\n",
       "      <td>7441.40</td>\n",
       "      <td>6906.04</td>\n",
       "      <td>4364.00</td>\n",
       "      <td>1939.00</td>\n",
       "      <td>2121.00</td>\n",
       "      <td>6829.18</td>\n",
       "      <td>67.0</td>\n",
       "      <td>47.0</td>\n",
       "      <td>82.0</td>\n",
       "      <td>...</td>\n",
       "      <td>80140.0</td>\n",
       "      <td>8.0</td>\n",
       "      <td>32.0</td>\n",
       "      <td>32044.0</td>\n",
       "      <td>12780.44</td>\n",
       "      <td>96408.0</td>\n",
       "      <td>1</td>\n",
       "      <td>0</td>\n",
       "      <td>0</td>\n",
       "      <td>1</td>\n",
       "    </tr>\n",
       "  </tbody>\n",
       "</table>\n",
       "<p>5 rows × 39 columns</p>\n",
       "</div>"
      ],
      "text/plain": [
       "   age  cc_cons_apr  dc_cons_apr  cc_cons_may  dc_cons_may  cc_cons_jun  \\\n",
       "0   35     24893.00       378.00     10288.00     29664.00     16291.40   \n",
       "1   35     18941.62       966.00     20672.00       287.00      4217.00   \n",
       "2   55      5678.87      2724.00      1964.50      3933.11     23956.25   \n",
       "3   29     30489.50      1236.00     12609.88      9138.14     17521.00   \n",
       "4   34      7441.40      6906.04      4364.00      1939.00      2121.00   \n",
       "\n",
       "   dc_cons_jun  cc_count_apr  cc_count_may  cc_count_jun  ...  \\\n",
       "0     11432.00           2.0          26.0          10.0  ...   \n",
       "1       885.00           1.0           7.0          13.0  ...   \n",
       "2      5168.00          43.0          32.0         102.0  ...   \n",
       "3     13650.30          53.0           1.0          50.0  ...   \n",
       "4      6829.18          67.0          47.0          82.0  ...   \n",
       "\n",
       "   credit_amount_jun  credit_count_jun  debit_count_jun  \\\n",
       "0            12761.0               2.0             65.0   \n",
       "1            76206.0              21.0             63.0   \n",
       "2            75283.0               7.0              1.0   \n",
       "3            68708.0              21.0             83.0   \n",
       "4            80140.0               8.0             32.0   \n",
       "\n",
       "   max_credit_amount_jun  emi_active  cc_cons  account_type_current  \\\n",
       "0                50836.0     1674.09  20014.0                     1   \n",
       "1                23226.0    13043.34  10173.0                     1   \n",
       "2                27036.0    25375.27  16095.0                     1   \n",
       "3                43037.0     3544.33   7707.0                     1   \n",
       "4                32044.0    12780.44  96408.0                     1   \n",
       "\n",
       "   account_type_saving  gender_F  gender_M  \n",
       "0                    0         0         1  \n",
       "1                    0         0         1  \n",
       "2                    0         0         1  \n",
       "3                    0         1         0  \n",
       "4                    0         0         1  \n",
       "\n",
       "[5 rows x 39 columns]"
      ]
     },
     "execution_count": 6,
     "metadata": {},
     "output_type": "execute_result"
    }
   ],
   "source": [
    "#encoding categorical data using one hot encoding\n",
    "data = pd.get_dummies(data=data, columns=['account_type', 'gender'])\n",
    "data.head(5)"
   ]
  },
  {
   "cell_type": "code",
   "execution_count": 7,
   "metadata": {},
   "outputs": [
    {
     "name": "stdout",
     "output_type": "stream",
     "text": [
      "-27.0\n",
      "113.0\n"
     ]
    }
   ],
   "source": [
    "data = remove_outliers(data, 'age')"
   ]
  },
  {
   "cell_type": "code",
   "execution_count": 8,
   "metadata": {},
   "outputs": [],
   "source": [
    "cat_cols = ['account_type_current','account_type_saving','gender_F','gender_M']"
   ]
  },
  {
   "cell_type": "code",
   "execution_count": 9,
   "metadata": {},
   "outputs": [],
   "source": [
    "X = data.drop(['cc_cons'], axis=1) \n",
    "y = np.log1p(data['cc_cons'])"
   ]
  },
  {
   "cell_type": "code",
   "execution_count": 10,
   "metadata": {},
   "outputs": [],
   "source": [
    "treated_df = treat_outliers(X, numerical_cols)"
   ]
  },
  {
   "cell_type": "code",
   "execution_count": 11,
   "metadata": {},
   "outputs": [
    {
     "data": {
      "text/plain": [
       "count    14466.000000\n",
       "mean      3382.788398\n",
       "std       6646.328325\n",
       "min      -6281.379880\n",
       "25%          0.000000\n",
       "50%       2351.000000\n",
       "75%       6885.000000\n",
       "max      19765.000000\n",
       "Name: investment_4, dtype: float64"
      ]
     },
     "execution_count": 11,
     "metadata": {},
     "output_type": "execute_result"
    }
   ],
   "source": [
    "treated_df['investment_4'].describe()"
   ]
  },
  {
   "cell_type": "code",
   "execution_count": 12,
   "metadata": {},
   "outputs": [],
   "source": [
    "treated_df['investment_4'] = treated_df['investment_4']-treated_df['investment_4'].min()"
   ]
  },
  {
   "cell_type": "code",
   "execution_count": 13,
   "metadata": {},
   "outputs": [
    {
     "data": {
      "text/html": [
       "<div>\n",
       "<style scoped>\n",
       "    .dataframe tbody tr th:only-of-type {\n",
       "        vertical-align: middle;\n",
       "    }\n",
       "\n",
       "    .dataframe tbody tr th {\n",
       "        vertical-align: top;\n",
       "    }\n",
       "\n",
       "    .dataframe thead th {\n",
       "        text-align: right;\n",
       "    }\n",
       "</style>\n",
       "<table border=\"1\" class=\"dataframe\">\n",
       "  <thead>\n",
       "    <tr style=\"text-align: right;\">\n",
       "      <th></th>\n",
       "      <th>Column</th>\n",
       "      <th>Outliers count</th>\n",
       "    </tr>\n",
       "  </thead>\n",
       "  <tbody>\n",
       "    <tr>\n",
       "      <th>0</th>\n",
       "      <td>age</td>\n",
       "      <td>0</td>\n",
       "    </tr>\n",
       "    <tr>\n",
       "      <th>1</th>\n",
       "      <td>cc_cons_apr</td>\n",
       "      <td>0</td>\n",
       "    </tr>\n",
       "    <tr>\n",
       "      <th>2</th>\n",
       "      <td>dc_cons_apr</td>\n",
       "      <td>0</td>\n",
       "    </tr>\n",
       "    <tr>\n",
       "      <th>3</th>\n",
       "      <td>cc_cons_may</td>\n",
       "      <td>0</td>\n",
       "    </tr>\n",
       "    <tr>\n",
       "      <th>4</th>\n",
       "      <td>dc_cons_may</td>\n",
       "      <td>0</td>\n",
       "    </tr>\n",
       "    <tr>\n",
       "      <th>5</th>\n",
       "      <td>cc_cons_jun</td>\n",
       "      <td>0</td>\n",
       "    </tr>\n",
       "    <tr>\n",
       "      <th>6</th>\n",
       "      <td>dc_cons_jun</td>\n",
       "      <td>0</td>\n",
       "    </tr>\n",
       "    <tr>\n",
       "      <th>7</th>\n",
       "      <td>cc_count_apr</td>\n",
       "      <td>0</td>\n",
       "    </tr>\n",
       "    <tr>\n",
       "      <th>8</th>\n",
       "      <td>cc_count_may</td>\n",
       "      <td>0</td>\n",
       "    </tr>\n",
       "    <tr>\n",
       "      <th>9</th>\n",
       "      <td>cc_count_jun</td>\n",
       "      <td>0</td>\n",
       "    </tr>\n",
       "    <tr>\n",
       "      <th>10</th>\n",
       "      <td>dc_count_apr</td>\n",
       "      <td>0</td>\n",
       "    </tr>\n",
       "    <tr>\n",
       "      <th>11</th>\n",
       "      <td>dc_count_may</td>\n",
       "      <td>0</td>\n",
       "    </tr>\n",
       "    <tr>\n",
       "      <th>12</th>\n",
       "      <td>dc_count_jun</td>\n",
       "      <td>0</td>\n",
       "    </tr>\n",
       "    <tr>\n",
       "      <th>13</th>\n",
       "      <td>card_lim</td>\n",
       "      <td>0</td>\n",
       "    </tr>\n",
       "    <tr>\n",
       "      <th>14</th>\n",
       "      <td>investment_1</td>\n",
       "      <td>1763</td>\n",
       "    </tr>\n",
       "    <tr>\n",
       "      <th>15</th>\n",
       "      <td>investment_2</td>\n",
       "      <td>788</td>\n",
       "    </tr>\n",
       "    <tr>\n",
       "      <th>16</th>\n",
       "      <td>investment_3</td>\n",
       "      <td>0</td>\n",
       "    </tr>\n",
       "    <tr>\n",
       "      <th>17</th>\n",
       "      <td>investment_4</td>\n",
       "      <td>0</td>\n",
       "    </tr>\n",
       "    <tr>\n",
       "      <th>18</th>\n",
       "      <td>debit_amount_apr</td>\n",
       "      <td>0</td>\n",
       "    </tr>\n",
       "    <tr>\n",
       "      <th>19</th>\n",
       "      <td>credit_amount_apr</td>\n",
       "      <td>0</td>\n",
       "    </tr>\n",
       "    <tr>\n",
       "      <th>20</th>\n",
       "      <td>debit_count_apr</td>\n",
       "      <td>0</td>\n",
       "    </tr>\n",
       "    <tr>\n",
       "      <th>21</th>\n",
       "      <td>credit_count_apr</td>\n",
       "      <td>0</td>\n",
       "    </tr>\n",
       "    <tr>\n",
       "      <th>22</th>\n",
       "      <td>max_credit_amount_apr</td>\n",
       "      <td>0</td>\n",
       "    </tr>\n",
       "    <tr>\n",
       "      <th>23</th>\n",
       "      <td>debit_amount_may</td>\n",
       "      <td>0</td>\n",
       "    </tr>\n",
       "    <tr>\n",
       "      <th>24</th>\n",
       "      <td>credit_amount_may</td>\n",
       "      <td>0</td>\n",
       "    </tr>\n",
       "    <tr>\n",
       "      <th>25</th>\n",
       "      <td>credit_count_may</td>\n",
       "      <td>1985</td>\n",
       "    </tr>\n",
       "    <tr>\n",
       "      <th>26</th>\n",
       "      <td>debit_count_may</td>\n",
       "      <td>0</td>\n",
       "    </tr>\n",
       "    <tr>\n",
       "      <th>27</th>\n",
       "      <td>max_credit_amount_may</td>\n",
       "      <td>0</td>\n",
       "    </tr>\n",
       "    <tr>\n",
       "      <th>28</th>\n",
       "      <td>debit_amount_jun</td>\n",
       "      <td>0</td>\n",
       "    </tr>\n",
       "    <tr>\n",
       "      <th>29</th>\n",
       "      <td>credit_amount_jun</td>\n",
       "      <td>0</td>\n",
       "    </tr>\n",
       "    <tr>\n",
       "      <th>30</th>\n",
       "      <td>credit_count_jun</td>\n",
       "      <td>992</td>\n",
       "    </tr>\n",
       "    <tr>\n",
       "      <th>31</th>\n",
       "      <td>debit_count_jun</td>\n",
       "      <td>0</td>\n",
       "    </tr>\n",
       "    <tr>\n",
       "      <th>32</th>\n",
       "      <td>max_credit_amount_jun</td>\n",
       "      <td>0</td>\n",
       "    </tr>\n",
       "    <tr>\n",
       "      <th>33</th>\n",
       "      <td>emi_active</td>\n",
       "      <td>853</td>\n",
       "    </tr>\n",
       "    <tr>\n",
       "      <th>34</th>\n",
       "      <td>account_type_current</td>\n",
       "      <td>2207</td>\n",
       "    </tr>\n",
       "    <tr>\n",
       "      <th>35</th>\n",
       "      <td>account_type_saving</td>\n",
       "      <td>2207</td>\n",
       "    </tr>\n",
       "    <tr>\n",
       "      <th>36</th>\n",
       "      <td>gender_F</td>\n",
       "      <td>1984</td>\n",
       "    </tr>\n",
       "    <tr>\n",
       "      <th>37</th>\n",
       "      <td>gender_M</td>\n",
       "      <td>1984</td>\n",
       "    </tr>\n",
       "  </tbody>\n",
       "</table>\n",
       "</div>"
      ],
      "text/plain": [
       "                   Column  Outliers count\n",
       "0                     age               0\n",
       "1             cc_cons_apr               0\n",
       "2             dc_cons_apr               0\n",
       "3             cc_cons_may               0\n",
       "4             dc_cons_may               0\n",
       "5             cc_cons_jun               0\n",
       "6             dc_cons_jun               0\n",
       "7            cc_count_apr               0\n",
       "8            cc_count_may               0\n",
       "9            cc_count_jun               0\n",
       "10           dc_count_apr               0\n",
       "11           dc_count_may               0\n",
       "12           dc_count_jun               0\n",
       "13               card_lim               0\n",
       "14           investment_1            1763\n",
       "15           investment_2             788\n",
       "16           investment_3               0\n",
       "17           investment_4               0\n",
       "18       debit_amount_apr               0\n",
       "19      credit_amount_apr               0\n",
       "20        debit_count_apr               0\n",
       "21       credit_count_apr               0\n",
       "22  max_credit_amount_apr               0\n",
       "23       debit_amount_may               0\n",
       "24      credit_amount_may               0\n",
       "25       credit_count_may            1985\n",
       "26        debit_count_may               0\n",
       "27  max_credit_amount_may               0\n",
       "28       debit_amount_jun               0\n",
       "29      credit_amount_jun               0\n",
       "30       credit_count_jun             992\n",
       "31        debit_count_jun               0\n",
       "32  max_credit_amount_jun               0\n",
       "33             emi_active             853\n",
       "34   account_type_current            2207\n",
       "35    account_type_saving            2207\n",
       "36               gender_F            1984\n",
       "37               gender_M            1984"
      ]
     },
     "execution_count": 13,
     "metadata": {},
     "output_type": "execute_result"
    }
   ],
   "source": [
    "count_dict = get_outliers_count(treated_df)\n",
    "outliers_count_df = pd.DataFrame(count_dict.items(), columns=['Column', 'Outliers count'])\n",
    "outliers_count_df"
   ]
  },
  {
   "cell_type": "code",
   "execution_count": 14,
   "metadata": {},
   "outputs": [
    {
     "data": {
      "text/plain": [
       "count    14466.000000\n",
       "mean      9664.168278\n",
       "std       6646.328325\n",
       "min          0.000000\n",
       "25%       6281.379880\n",
       "50%       8632.379880\n",
       "75%      13166.379880\n",
       "max      26046.379880\n",
       "Name: investment_4, dtype: float64"
      ]
     },
     "execution_count": 14,
     "metadata": {},
     "output_type": "execute_result"
    }
   ],
   "source": [
    "treated_df['investment_4'].describe()"
   ]
  },
  {
   "cell_type": "code",
   "execution_count": 15,
   "metadata": {},
   "outputs": [],
   "source": [
    "#taking log transformation to remove skewness\n",
    "treated_df[numerical_cols] = np.log1p(treated_df[numerical_cols])"
   ]
  },
  {
   "cell_type": "code",
   "execution_count": 16,
   "metadata": {},
   "outputs": [
    {
     "data": {
      "text/html": [
       "<div>\n",
       "<style scoped>\n",
       "    .dataframe tbody tr th:only-of-type {\n",
       "        vertical-align: middle;\n",
       "    }\n",
       "\n",
       "    .dataframe tbody tr th {\n",
       "        vertical-align: top;\n",
       "    }\n",
       "\n",
       "    .dataframe thead th {\n",
       "        text-align: right;\n",
       "    }\n",
       "</style>\n",
       "<table border=\"1\" class=\"dataframe\">\n",
       "  <thead>\n",
       "    <tr style=\"text-align: right;\">\n",
       "      <th></th>\n",
       "      <th>age</th>\n",
       "      <th>cc_cons_apr</th>\n",
       "      <th>dc_cons_apr</th>\n",
       "      <th>cc_cons_may</th>\n",
       "      <th>dc_cons_may</th>\n",
       "      <th>cc_cons_jun</th>\n",
       "      <th>dc_cons_jun</th>\n",
       "      <th>cc_count_apr</th>\n",
       "      <th>cc_count_may</th>\n",
       "      <th>cc_count_jun</th>\n",
       "      <th>...</th>\n",
       "      <th>debit_amount_jun</th>\n",
       "      <th>credit_amount_jun</th>\n",
       "      <th>credit_count_jun</th>\n",
       "      <th>debit_count_jun</th>\n",
       "      <th>max_credit_amount_jun</th>\n",
       "      <th>emi_active</th>\n",
       "      <th>account_type_current</th>\n",
       "      <th>account_type_saving</th>\n",
       "      <th>gender_F</th>\n",
       "      <th>gender_M</th>\n",
       "    </tr>\n",
       "  </thead>\n",
       "  <tbody>\n",
       "    <tr>\n",
       "      <th>0</th>\n",
       "      <td>3.583519</td>\n",
       "      <td>10.122382</td>\n",
       "      <td>5.937536</td>\n",
       "      <td>9.238831</td>\n",
       "      <td>10.140061</td>\n",
       "      <td>9.698454</td>\n",
       "      <td>9.344259</td>\n",
       "      <td>1.098612</td>\n",
       "      <td>3.295837</td>\n",
       "      <td>2.397895</td>\n",
       "      <td>...</td>\n",
       "      <td>10.310695</td>\n",
       "      <td>9.454227</td>\n",
       "      <td>1.098612</td>\n",
       "      <td>4.189655</td>\n",
       "      <td>10.836380</td>\n",
       "      <td>7.423622</td>\n",
       "      <td>1</td>\n",
       "      <td>0</td>\n",
       "      <td>0</td>\n",
       "      <td>1</td>\n",
       "    </tr>\n",
       "    <tr>\n",
       "      <th>1</th>\n",
       "      <td>3.583519</td>\n",
       "      <td>9.849170</td>\n",
       "      <td>6.874198</td>\n",
       "      <td>9.936584</td>\n",
       "      <td>6.021023</td>\n",
       "      <td>8.347116</td>\n",
       "      <td>6.786717</td>\n",
       "      <td>0.693147</td>\n",
       "      <td>2.079442</td>\n",
       "      <td>2.639057</td>\n",
       "      <td>...</td>\n",
       "      <td>10.648279</td>\n",
       "      <td>11.241209</td>\n",
       "      <td>3.091042</td>\n",
       "      <td>4.158883</td>\n",
       "      <td>10.053071</td>\n",
       "      <td>9.476110</td>\n",
       "      <td>1</td>\n",
       "      <td>0</td>\n",
       "      <td>0</td>\n",
       "      <td>1</td>\n",
       "    </tr>\n",
       "    <tr>\n",
       "      <th>2</th>\n",
       "      <td>4.025352</td>\n",
       "      <td>8.644684</td>\n",
       "      <td>7.910224</td>\n",
       "      <td>7.583502</td>\n",
       "      <td>8.277440</td>\n",
       "      <td>10.084026</td>\n",
       "      <td>8.550435</td>\n",
       "      <td>3.784190</td>\n",
       "      <td>3.496508</td>\n",
       "      <td>4.499810</td>\n",
       "      <td>...</td>\n",
       "      <td>10.974630</td>\n",
       "      <td>11.229023</td>\n",
       "      <td>2.079442</td>\n",
       "      <td>1.098612</td>\n",
       "      <td>10.204962</td>\n",
       "      <td>10.141570</td>\n",
       "      <td>1</td>\n",
       "      <td>0</td>\n",
       "      <td>0</td>\n",
       "      <td>1</td>\n",
       "    </tr>\n",
       "    <tr>\n",
       "      <th>3</th>\n",
       "      <td>3.401197</td>\n",
       "      <td>10.325170</td>\n",
       "      <td>7.120444</td>\n",
       "      <td>9.442315</td>\n",
       "      <td>9.120322</td>\n",
       "      <td>9.771213</td>\n",
       "      <td>9.521590</td>\n",
       "      <td>3.988984</td>\n",
       "      <td>1.098612</td>\n",
       "      <td>3.931826</td>\n",
       "      <td>...</td>\n",
       "      <td>11.154141</td>\n",
       "      <td>11.137635</td>\n",
       "      <td>3.091042</td>\n",
       "      <td>4.430817</td>\n",
       "      <td>10.669839</td>\n",
       "      <td>8.173387</td>\n",
       "      <td>1</td>\n",
       "      <td>0</td>\n",
       "      <td>1</td>\n",
       "      <td>0</td>\n",
       "    </tr>\n",
       "    <tr>\n",
       "      <th>4</th>\n",
       "      <td>3.555348</td>\n",
       "      <td>8.914949</td>\n",
       "      <td>8.840296</td>\n",
       "      <td>8.381373</td>\n",
       "      <td>7.570443</td>\n",
       "      <td>7.660114</td>\n",
       "      <td>8.829106</td>\n",
       "      <td>4.219508</td>\n",
       "      <td>3.871201</td>\n",
       "      <td>4.418841</td>\n",
       "      <td>...</td>\n",
       "      <td>9.217515</td>\n",
       "      <td>11.291543</td>\n",
       "      <td>2.197225</td>\n",
       "      <td>3.496508</td>\n",
       "      <td>10.374896</td>\n",
       "      <td>9.455749</td>\n",
       "      <td>1</td>\n",
       "      <td>0</td>\n",
       "      <td>0</td>\n",
       "      <td>1</td>\n",
       "    </tr>\n",
       "  </tbody>\n",
       "</table>\n",
       "<p>5 rows × 38 columns</p>\n",
       "</div>"
      ],
      "text/plain": [
       "        age  cc_cons_apr  dc_cons_apr  cc_cons_may  dc_cons_may  cc_cons_jun  \\\n",
       "0  3.583519    10.122382     5.937536     9.238831    10.140061     9.698454   \n",
       "1  3.583519     9.849170     6.874198     9.936584     6.021023     8.347116   \n",
       "2  4.025352     8.644684     7.910224     7.583502     8.277440    10.084026   \n",
       "3  3.401197    10.325170     7.120444     9.442315     9.120322     9.771213   \n",
       "4  3.555348     8.914949     8.840296     8.381373     7.570443     7.660114   \n",
       "\n",
       "   dc_cons_jun  cc_count_apr  cc_count_may  cc_count_jun  ...  \\\n",
       "0     9.344259      1.098612      3.295837      2.397895  ...   \n",
       "1     6.786717      0.693147      2.079442      2.639057  ...   \n",
       "2     8.550435      3.784190      3.496508      4.499810  ...   \n",
       "3     9.521590      3.988984      1.098612      3.931826  ...   \n",
       "4     8.829106      4.219508      3.871201      4.418841  ...   \n",
       "\n",
       "   debit_amount_jun  credit_amount_jun  credit_count_jun  debit_count_jun  \\\n",
       "0         10.310695           9.454227          1.098612         4.189655   \n",
       "1         10.648279          11.241209          3.091042         4.158883   \n",
       "2         10.974630          11.229023          2.079442         1.098612   \n",
       "3         11.154141          11.137635          3.091042         4.430817   \n",
       "4          9.217515          11.291543          2.197225         3.496508   \n",
       "\n",
       "   max_credit_amount_jun  emi_active  account_type_current  \\\n",
       "0              10.836380    7.423622                     1   \n",
       "1              10.053071    9.476110                     1   \n",
       "2              10.204962   10.141570                     1   \n",
       "3              10.669839    8.173387                     1   \n",
       "4              10.374896    9.455749                     1   \n",
       "\n",
       "   account_type_saving  gender_F  gender_M  \n",
       "0                    0         0         1  \n",
       "1                    0         0         1  \n",
       "2                    0         0         1  \n",
       "3                    0         1         0  \n",
       "4                    0         0         1  \n",
       "\n",
       "[5 rows x 38 columns]"
      ]
     },
     "execution_count": 16,
     "metadata": {},
     "output_type": "execute_result"
    }
   ],
   "source": [
    "treated_df.head()"
   ]
  },
  {
   "cell_type": "code",
   "execution_count": 17,
   "metadata": {},
   "outputs": [],
   "source": [
    "scaled_df,scaler_train = scale(treated_df, numerical_cols)"
   ]
  },
  {
   "cell_type": "code",
   "execution_count": 18,
   "metadata": {},
   "outputs": [
    {
     "data": {
      "text/html": [
       "<div>\n",
       "<style scoped>\n",
       "    .dataframe tbody tr th:only-of-type {\n",
       "        vertical-align: middle;\n",
       "    }\n",
       "\n",
       "    .dataframe tbody tr th {\n",
       "        vertical-align: top;\n",
       "    }\n",
       "\n",
       "    .dataframe thead th {\n",
       "        text-align: right;\n",
       "    }\n",
       "</style>\n",
       "<table border=\"1\" class=\"dataframe\">\n",
       "  <thead>\n",
       "    <tr style=\"text-align: right;\">\n",
       "      <th></th>\n",
       "      <th>age</th>\n",
       "      <th>cc_cons_apr</th>\n",
       "      <th>dc_cons_apr</th>\n",
       "      <th>cc_cons_may</th>\n",
       "      <th>dc_cons_may</th>\n",
       "      <th>cc_cons_jun</th>\n",
       "      <th>dc_cons_jun</th>\n",
       "      <th>cc_count_apr</th>\n",
       "      <th>cc_count_may</th>\n",
       "      <th>cc_count_jun</th>\n",
       "      <th>...</th>\n",
       "      <th>debit_amount_jun</th>\n",
       "      <th>credit_amount_jun</th>\n",
       "      <th>credit_count_jun</th>\n",
       "      <th>debit_count_jun</th>\n",
       "      <th>max_credit_amount_jun</th>\n",
       "      <th>emi_active</th>\n",
       "      <th>account_type_current</th>\n",
       "      <th>account_type_saving</th>\n",
       "      <th>gender_F</th>\n",
       "      <th>gender_M</th>\n",
       "    </tr>\n",
       "  </thead>\n",
       "  <tbody>\n",
       "    <tr>\n",
       "      <th>0</th>\n",
       "      <td>-0.586902</td>\n",
       "      <td>0.888070</td>\n",
       "      <td>-1.931765</td>\n",
       "      <td>0.201300</td>\n",
       "      <td>1.744251</td>\n",
       "      <td>0.881015</td>\n",
       "      <td>1.109502</td>\n",
       "      <td>-1.284291</td>\n",
       "      <td>0.312270</td>\n",
       "      <td>-0.823730</td>\n",
       "      <td>...</td>\n",
       "      <td>-0.457267</td>\n",
       "      <td>-1.225722</td>\n",
       "      <td>-1.240968</td>\n",
       "      <td>0.769080</td>\n",
       "      <td>0.561216</td>\n",
       "      <td>-0.543990</td>\n",
       "      <td>1</td>\n",
       "      <td>0</td>\n",
       "      <td>0</td>\n",
       "      <td>1</td>\n",
       "    </tr>\n",
       "    <tr>\n",
       "      <th>1</th>\n",
       "      <td>-0.586902</td>\n",
       "      <td>0.634547</td>\n",
       "      <td>-1.141428</td>\n",
       "      <td>0.833577</td>\n",
       "      <td>-1.938562</td>\n",
       "      <td>-0.394453</td>\n",
       "      <td>-1.110004</td>\n",
       "      <td>-1.621116</td>\n",
       "      <td>-0.837616</td>\n",
       "      <td>-0.592003</td>\n",
       "      <td>...</td>\n",
       "      <td>-0.078522</td>\n",
       "      <td>0.561095</td>\n",
       "      <td>0.647749</td>\n",
       "      <td>0.738948</td>\n",
       "      <td>-0.225758</td>\n",
       "      <td>0.955794</td>\n",
       "      <td>1</td>\n",
       "      <td>0</td>\n",
       "      <td>0</td>\n",
       "      <td>1</td>\n",
       "    </tr>\n",
       "    <tr>\n",
       "      <th>2</th>\n",
       "      <td>1.061366</td>\n",
       "      <td>-0.483134</td>\n",
       "      <td>-0.267251</td>\n",
       "      <td>-1.298695</td>\n",
       "      <td>0.078890</td>\n",
       "      <td>1.244939</td>\n",
       "      <td>0.420599</td>\n",
       "      <td>0.946658</td>\n",
       "      <td>0.501969</td>\n",
       "      <td>1.195950</td>\n",
       "      <td>...</td>\n",
       "      <td>0.287620</td>\n",
       "      <td>0.548911</td>\n",
       "      <td>-0.311195</td>\n",
       "      <td>-2.257727</td>\n",
       "      <td>-0.073156</td>\n",
       "      <td>1.442056</td>\n",
       "      <td>1</td>\n",
       "      <td>0</td>\n",
       "      <td>0</td>\n",
       "      <td>1</td>\n",
       "    </tr>\n",
       "    <tr>\n",
       "      <th>3</th>\n",
       "      <td>-1.267058</td>\n",
       "      <td>1.076243</td>\n",
       "      <td>-0.933651</td>\n",
       "      <td>0.385690</td>\n",
       "      <td>0.832507</td>\n",
       "      <td>0.949688</td>\n",
       "      <td>1.263395</td>\n",
       "      <td>1.116783</td>\n",
       "      <td>-1.764816</td>\n",
       "      <td>0.650188</td>\n",
       "      <td>...</td>\n",
       "      <td>0.489018</td>\n",
       "      <td>0.457532</td>\n",
       "      <td>0.647749</td>\n",
       "      <td>1.005230</td>\n",
       "      <td>0.393896</td>\n",
       "      <td>0.003874</td>\n",
       "      <td>1</td>\n",
       "      <td>0</td>\n",
       "      <td>1</td>\n",
       "      <td>0</td>\n",
       "    </tr>\n",
       "    <tr>\n",
       "      <th>4</th>\n",
       "      <td>-0.691994</td>\n",
       "      <td>-0.232346</td>\n",
       "      <td>0.517526</td>\n",
       "      <td>-0.575695</td>\n",
       "      <td>-0.553233</td>\n",
       "      <td>-1.042884</td>\n",
       "      <td>0.662438</td>\n",
       "      <td>1.308283</td>\n",
       "      <td>0.856175</td>\n",
       "      <td>1.118149</td>\n",
       "      <td>...</td>\n",
       "      <td>-1.683736</td>\n",
       "      <td>0.611425</td>\n",
       "      <td>-0.199543</td>\n",
       "      <td>0.090337</td>\n",
       "      <td>0.097574</td>\n",
       "      <td>0.940916</td>\n",
       "      <td>1</td>\n",
       "      <td>0</td>\n",
       "      <td>0</td>\n",
       "      <td>1</td>\n",
       "    </tr>\n",
       "  </tbody>\n",
       "</table>\n",
       "<p>5 rows × 38 columns</p>\n",
       "</div>"
      ],
      "text/plain": [
       "        age  cc_cons_apr  dc_cons_apr  cc_cons_may  dc_cons_may  cc_cons_jun  \\\n",
       "0 -0.586902     0.888070    -1.931765     0.201300     1.744251     0.881015   \n",
       "1 -0.586902     0.634547    -1.141428     0.833577    -1.938562    -0.394453   \n",
       "2  1.061366    -0.483134    -0.267251    -1.298695     0.078890     1.244939   \n",
       "3 -1.267058     1.076243    -0.933651     0.385690     0.832507     0.949688   \n",
       "4 -0.691994    -0.232346     0.517526    -0.575695    -0.553233    -1.042884   \n",
       "\n",
       "   dc_cons_jun  cc_count_apr  cc_count_may  cc_count_jun  ...  \\\n",
       "0     1.109502     -1.284291      0.312270     -0.823730  ...   \n",
       "1    -1.110004     -1.621116     -0.837616     -0.592003  ...   \n",
       "2     0.420599      0.946658      0.501969      1.195950  ...   \n",
       "3     1.263395      1.116783     -1.764816      0.650188  ...   \n",
       "4     0.662438      1.308283      0.856175      1.118149  ...   \n",
       "\n",
       "   debit_amount_jun  credit_amount_jun  credit_count_jun  debit_count_jun  \\\n",
       "0         -0.457267          -1.225722         -1.240968         0.769080   \n",
       "1         -0.078522           0.561095          0.647749         0.738948   \n",
       "2          0.287620           0.548911         -0.311195        -2.257727   \n",
       "3          0.489018           0.457532          0.647749         1.005230   \n",
       "4         -1.683736           0.611425         -0.199543         0.090337   \n",
       "\n",
       "   max_credit_amount_jun  emi_active  account_type_current  \\\n",
       "0               0.561216   -0.543990                     1   \n",
       "1              -0.225758    0.955794                     1   \n",
       "2              -0.073156    1.442056                     1   \n",
       "3               0.393896    0.003874                     1   \n",
       "4               0.097574    0.940916                     1   \n",
       "\n",
       "   account_type_saving  gender_F  gender_M  \n",
       "0                    0         0         1  \n",
       "1                    0         0         1  \n",
       "2                    0         0         1  \n",
       "3                    0         1         0  \n",
       "4                    0         0         1  \n",
       "\n",
       "[5 rows x 38 columns]"
      ]
     },
     "execution_count": 18,
     "metadata": {},
     "output_type": "execute_result"
    }
   ],
   "source": [
    "scaled_df.head()"
   ]
  },
  {
   "cell_type": "code",
   "execution_count": 21,
   "metadata": {},
   "outputs": [
    {
     "name": "stdout",
     "output_type": "stream",
     "text": [
      "Training score: 0.004480920634956087\n",
      "Test score: -0.004908111894700307\n"
     ]
    }
   ],
   "source": [
    "#assessing linear model on this data\n",
    "X_train, X_test, y_train, y_test = train_test_split(scaled_df, y, test_size=0.33, random_state=12)\n",
    "linear_model = LinearRegression()\n",
    "linear_model.fit(X_train, y_train)\n",
    "y_pred = linear_model.predict(X_test)\n",
    "print(\"Training score: \"+str(linear_model.score(X_train, y_train)))\n",
    "print(\"Test score: \"+str(linear_model.score(X_test, y_test)))"
   ]
  },
  {
   "cell_type": "code",
   "execution_count": 106,
   "metadata": {},
   "outputs": [
    {
     "data": {
      "text/plain": [
       "array([9.74316406, 9.66601562, 9.66113281, ..., 9.61523438, 9.49902344,\n",
       "       9.67382812])"
      ]
     },
     "execution_count": 106,
     "metadata": {},
     "output_type": "execute_result"
    }
   ],
   "source": [
    "y_pred"
   ]
  },
  {
   "cell_type": "code",
   "execution_count": 107,
   "metadata": {},
   "outputs": [
    {
     "data": {
      "text/plain": [
       "<matplotlib.collections.PathCollection at 0xb4e1fa9f98>"
      ]
     },
     "execution_count": 107,
     "metadata": {},
     "output_type": "execute_result"
    },
    {
     "data": {
      "image/png": "[encoded data removed]",
      "text/plain": [
       "<Figure size 576x720 with 1 Axes>"
      ]
     },
     "metadata": {
      "needs_background": "light"
     },
     "output_type": "display_data"
    }
   ],
   "source": [
    "plt.scatter(x=y_test, y=y_pred)"
   ]
  },
  {
   "cell_type": "code",
   "execution_count": 108,
   "metadata": {},
   "outputs": [
    {
     "name": "stdout",
     "output_type": "stream",
     "text": [
      "1.1691205797616706\n",
      "2.641559557339181\n",
      "1.6252875306662453\n"
     ]
    }
   ],
   "source": [
    "print(metrics.mean_absolute_error(y_test, y_pred))\n",
    "print(metrics.mean_squared_error(y_test, y_pred))\n",
    "print(np.sqrt(metrics.mean_squared_error(y_test, y_pred)))"
   ]
  },
  {
   "cell_type": "code",
   "execution_count": 109,
   "metadata": {},
   "outputs": [
    {
     "name": "stdout",
     "output_type": "stream",
     "text": [
      "0.15887456448282272\n"
     ]
    }
   ],
   "source": [
    "print(rmsle(y_test, y_pred))"
   ]
  },
  {
   "cell_type": "code",
   "execution_count": 110,
   "metadata": {},
   "outputs": [
    {
     "data": {
      "text/plain": [
       "(array([   9.,   15.,   36.,  129.,  327.,  925., 2211.,  140.,  418.,\n",
       "         564.]),\n",
       " array([-7.03075377, -5.96695673, -4.90315968, -3.83936264, -2.7755656 ,\n",
       "        -1.71176856, -0.64797152,  0.41582552,  1.47962257,  2.54341961,\n",
       "         3.60721665]),\n",
       " <a list of 10 Patch objects>)"
      ]
     },
     "execution_count": 110,
     "metadata": {},
     "output_type": "execute_result"
    },
    {
     "data": {
      "image/png": "[encoded data removed]",
      "text/plain": [
       "<Figure size 576x720 with 1 Axes>"
      ]
     },
     "metadata": {
      "needs_background": "light"
     },
     "output_type": "display_data"
    }
   ],
   "source": [
    "resid = y_test - y_pred\n",
    "plt.hist(resid)"
   ]
  },
  {
   "cell_type": "code",
   "execution_count": 111,
   "metadata": {},
   "outputs": [
    {
     "name": "stdout",
     "output_type": "stream",
     "text": [
      "Training score: 0.9999999999449624\n",
      "Test score: -1.156925119934852\n"
     ]
    }
   ],
   "source": [
    "dt_model = DecisionTreeRegressor(random_state=0)\n",
    "dt_model.fit(X_train, y_train)\n",
    "y_pred_dt = dt_model.predict(X_test)\n",
    "print(\"Training score: \"+str(dt_model.score(X_train, y_train)))\n",
    "print(\"Test score: \"+str(dt_model.score(X_test, y_test)))"
   ]
  },
  {
   "cell_type": "code",
   "execution_count": 112,
   "metadata": {},
   "outputs": [
    {
     "name": "stdout",
     "output_type": "stream",
     "text": [
      "1.8365474187644024\n",
      "5.66981806355037\n",
      "2.3811379765881626\n"
     ]
    }
   ],
   "source": [
    "print(metrics.mean_absolute_error(y_test, y_pred_dt))\n",
    "print(metrics.mean_squared_error(y_test, y_pred_dt))\n",
    "print(np.sqrt(metrics.mean_squared_error(y_test, y_pred_dt)))"
   ]
  },
  {
   "cell_type": "code",
   "execution_count": 113,
   "metadata": {},
   "outputs": [
    {
     "name": "stdout",
     "output_type": "stream",
     "text": [
      "0.23133829777480214\n"
     ]
    }
   ],
   "source": [
    "print(rmsle(y_test, y_pred_dt))"
   ]
  },
  {
   "cell_type": "code",
   "execution_count": 114,
   "metadata": {},
   "outputs": [
    {
     "data": {
      "text/plain": [
       "(array([9.000e+00, 6.200e+01, 3.200e+02, 8.230e+02, 1.565e+03, 1.137e+03,\n",
       "        6.680e+02, 1.620e+02, 2.700e+01, 1.000e+00]),\n",
       " array([-9.01913865, -7.15151679, -5.28389493, -3.41627307, -1.54865121,\n",
       "         0.31897065,  2.18659251,  4.05421436,  5.92183622,  7.78945808,\n",
       "         9.65707994]),\n",
       " <a list of 10 Patch objects>)"
      ]
     },
     "execution_count": 114,
     "metadata": {},
     "output_type": "execute_result"
    },
    {
     "data": {
      "image/png": "[encoded data removed]",
      "text/plain": [
       "<Figure size 576x720 with 1 Axes>"
      ]
     },
     "metadata": {
      "needs_background": "light"
     },
     "output_type": "display_data"
    }
   ],
   "source": [
    "resid = y_test - y_pred_dt\n",
    "plt.hist(resid)"
   ]
  },
  {
   "cell_type": "code",
   "execution_count": 115,
   "metadata": {},
   "outputs": [
    {
     "name": "stdout",
     "output_type": "stream",
     "text": [
      "Training score: 0.7976963678590347\n",
      "Test score: 0.7921387377464251\n"
     ]
    }
   ],
   "source": [
    "rf_model = RandomForestRegressor(random_state=0)\n",
    "rf_model.fit(scaled_df, y)\n",
    "y_pred_rf = rf_model.predict(X_test)\n",
    "print(\"Training score: \"+str(rf_model.score(X_train, y_train)))\n",
    "print(\"Test score: \"+str(rf_model.score(X_test, y_test)))"
   ]
  },
  {
   "cell_type": "code",
   "execution_count": 116,
   "metadata": {},
   "outputs": [
    {
     "name": "stdout",
     "output_type": "stream",
     "text": [
      "0.5352887155661515\n",
      "0.5463961305589023\n",
      "0.7391861271418061\n"
     ]
    }
   ],
   "source": [
    "print(metrics.mean_absolute_error(y_test, y_pred_rf))\n",
    "print(metrics.mean_squared_error(y_test, y_pred_rf))\n",
    "print(np.sqrt(metrics.mean_squared_error(y_test, y_pred_rf)))"
   ]
  },
  {
   "cell_type": "code",
   "execution_count": 117,
   "metadata": {},
   "outputs": [
    {
     "name": "stdout",
     "output_type": "stream",
     "text": [
      "0.7391861271418059\n"
     ]
    }
   ],
   "source": [
    "print(rmsle(np.expm1(y_test), np.expm1(y_pred_rf)))"
   ]
  },
  {
   "cell_type": "code",
   "execution_count": 118,
   "metadata": {},
   "outputs": [
    {
     "data": {
      "text/plain": [
       "(array([   6.,    4.,   19.,  106.,  522., 2166., 1355.,  445.,  134.,\n",
       "          17.]),\n",
       " array([-4.38114447, -3.64103807, -2.90093166, -2.16082525, -1.42071885,\n",
       "        -0.68061244,  0.05949397,  0.79960037,  1.53970678,  2.27981319,\n",
       "         3.01991959]),\n",
       " <a list of 10 Patch objects>)"
      ]
     },
     "execution_count": 118,
     "metadata": {},
     "output_type": "execute_result"
    },
    {
     "data": {
      "image/png": "[encoded data removed]",
      "text/plain": [
       "<Figure size 576x720 with 1 Axes>"
      ]
     },
     "metadata": {
      "needs_background": "light"
     },
     "output_type": "display_data"
    }
   ],
   "source": [
    "resid = y_test - y_pred_rf\n",
    "plt.hist(resid)"
   ]
  },
  {
   "cell_type": "code",
   "execution_count": 119,
   "metadata": {},
   "outputs": [],
   "source": [
    "test_data = pd.read_csv('Test.csv')"
   ]
  },
  {
   "cell_type": "code",
   "execution_count": 120,
   "metadata": {},
   "outputs": [],
   "source": [
    "test_scaled = custom_pipeline(test_data, scaler_train)"
   ]
  },
  {
   "cell_type": "code",
   "execution_count": 121,
   "metadata": {},
   "outputs": [
    {
     "data": {
      "text/html": [
       "<div>\n",
       "<style scoped>\n",
       "    .dataframe tbody tr th:only-of-type {\n",
       "        vertical-align: middle;\n",
       "    }\n",
       "\n",
       "    .dataframe tbody tr th {\n",
       "        vertical-align: top;\n",
       "    }\n",
       "\n",
       "    .dataframe thead th {\n",
       "        text-align: right;\n",
       "    }\n",
       "</style>\n",
       "<table border=\"1\" class=\"dataframe\">\n",
       "  <thead>\n",
       "    <tr style=\"text-align: right;\">\n",
       "      <th></th>\n",
       "      <th>age</th>\n",
       "      <th>cc_cons_apr</th>\n",
       "      <th>dc_cons_apr</th>\n",
       "      <th>cc_cons_may</th>\n",
       "      <th>dc_cons_may</th>\n",
       "      <th>cc_cons_jun</th>\n",
       "      <th>dc_cons_jun</th>\n",
       "      <th>cc_count_apr</th>\n",
       "      <th>cc_count_may</th>\n",
       "      <th>cc_count_jun</th>\n",
       "      <th>...</th>\n",
       "      <th>debit_amount_jun</th>\n",
       "      <th>credit_amount_jun</th>\n",
       "      <th>credit_count_jun</th>\n",
       "      <th>debit_count_jun</th>\n",
       "      <th>max_credit_amount_jun</th>\n",
       "      <th>emi_active</th>\n",
       "      <th>account_type_current</th>\n",
       "      <th>account_type_saving</th>\n",
       "      <th>gender_F</th>\n",
       "      <th>gender_M</th>\n",
       "    </tr>\n",
       "  </thead>\n",
       "  <tbody>\n",
       "    <tr>\n",
       "      <th>0</th>\n",
       "      <td>-0.385203</td>\n",
       "      <td>-1.140645</td>\n",
       "      <td>-0.897598</td>\n",
       "      <td>-0.266204</td>\n",
       "      <td>-1.493851</td>\n",
       "      <td>0.336163</td>\n",
       "      <td>1.372493</td>\n",
       "      <td>-0.859940</td>\n",
       "      <td>-0.536575</td>\n",
       "      <td>-1.581341</td>\n",
       "      <td>...</td>\n",
       "      <td>-0.439615</td>\n",
       "      <td>-0.329553</td>\n",
       "      <td>-0.968261</td>\n",
       "      <td>-0.821862</td>\n",
       "      <td>-0.114502</td>\n",
       "      <td>-0.805287</td>\n",
       "      <td>1</td>\n",
       "      <td>0</td>\n",
       "      <td>0</td>\n",
       "      <td>1</td>\n",
       "    </tr>\n",
       "    <tr>\n",
       "      <th>1</th>\n",
       "      <td>-0.800133</td>\n",
       "      <td>1.042641</td>\n",
       "      <td>-0.695185</td>\n",
       "      <td>-1.445788</td>\n",
       "      <td>-0.339122</td>\n",
       "      <td>0.505836</td>\n",
       "      <td>-1.043106</td>\n",
       "      <td>-1.045309</td>\n",
       "      <td>-0.536575</td>\n",
       "      <td>-1.581341</td>\n",
       "      <td>...</td>\n",
       "      <td>-1.287067</td>\n",
       "      <td>-0.963840</td>\n",
       "      <td>-0.437775</td>\n",
       "      <td>0.278711</td>\n",
       "      <td>-0.871415</td>\n",
       "      <td>1.125230</td>\n",
       "      <td>1</td>\n",
       "      <td>0</td>\n",
       "      <td>0</td>\n",
       "      <td>1</td>\n",
       "    </tr>\n",
       "    <tr>\n",
       "      <th>2</th>\n",
       "      <td>0.925696</td>\n",
       "      <td>-0.434391</td>\n",
       "      <td>0.425042</td>\n",
       "      <td>-1.011962</td>\n",
       "      <td>-1.382914</td>\n",
       "      <td>-2.067004</td>\n",
       "      <td>0.226743</td>\n",
       "      <td>-0.469501</td>\n",
       "      <td>0.442867</td>\n",
       "      <td>-1.406152</td>\n",
       "      <td>...</td>\n",
       "      <td>-0.369276</td>\n",
       "      <td>-0.259528</td>\n",
       "      <td>-0.583902</td>\n",
       "      <td>-1.078774</td>\n",
       "      <td>-0.792283</td>\n",
       "      <td>-0.216222</td>\n",
       "      <td>1</td>\n",
       "      <td>0</td>\n",
       "      <td>0</td>\n",
       "      <td>1</td>\n",
       "    </tr>\n",
       "    <tr>\n",
       "      <th>3</th>\n",
       "      <td>-0.800133</td>\n",
       "      <td>-1.403360</td>\n",
       "      <td>1.336252</td>\n",
       "      <td>1.304573</td>\n",
       "      <td>-2.740619</td>\n",
       "      <td>-0.384820</td>\n",
       "      <td>1.602849</td>\n",
       "      <td>-1.621116</td>\n",
       "      <td>1.550013</td>\n",
       "      <td>0.981537</td>\n",
       "      <td>...</td>\n",
       "      <td>0.817025</td>\n",
       "      <td>0.922901</td>\n",
       "      <td>0.647749</td>\n",
       "      <td>-3.333509</td>\n",
       "      <td>0.915314</td>\n",
       "      <td>-1.705408</td>\n",
       "      <td>1</td>\n",
       "      <td>0</td>\n",
       "      <td>0</td>\n",
       "      <td>1</td>\n",
       "    </tr>\n",
       "    <tr>\n",
       "      <th>4</th>\n",
       "      <td>1.500759</td>\n",
       "      <td>-0.995480</td>\n",
       "      <td>-0.048139</td>\n",
       "      <td>-0.868599</td>\n",
       "      <td>-0.257422</td>\n",
       "      <td>-0.605046</td>\n",
       "      <td>0.412503</td>\n",
       "      <td>-1.284291</td>\n",
       "      <td>-0.536575</td>\n",
       "      <td>0.591935</td>\n",
       "      <td>...</td>\n",
       "      <td>-0.970934</td>\n",
       "      <td>-0.048973</td>\n",
       "      <td>-0.437775</td>\n",
       "      <td>0.175540</td>\n",
       "      <td>0.377587</td>\n",
       "      <td>-0.165147</td>\n",
       "      <td>1</td>\n",
       "      <td>0</td>\n",
       "      <td>0</td>\n",
       "      <td>1</td>\n",
       "    </tr>\n",
       "  </tbody>\n",
       "</table>\n",
       "<p>5 rows × 38 columns</p>\n",
       "</div>"
      ],
      "text/plain": [
       "        age  cc_cons_apr  dc_cons_apr  cc_cons_may  dc_cons_may  cc_cons_jun  \\\n",
       "0 -0.385203    -1.140645    -0.897598    -0.266204    -1.493851     0.336163   \n",
       "1 -0.800133     1.042641    -0.695185    -1.445788    -0.339122     0.505836   \n",
       "2  0.925696    -0.434391     0.425042    -1.011962    -1.382914    -2.067004   \n",
       "3 -0.800133    -1.403360     1.336252     1.304573    -2.740619    -0.384820   \n",
       "4  1.500759    -0.995480    -0.048139    -0.868599    -0.257422    -0.605046   \n",
       "\n",
       "   dc_cons_jun  cc_count_apr  cc_count_may  cc_count_jun  ...  \\\n",
       "0     1.372493     -0.859940     -0.536575     -1.581341  ...   \n",
       "1    -1.043106     -1.045309     -0.536575     -1.581341  ...   \n",
       "2     0.226743     -0.469501      0.442867     -1.406152  ...   \n",
       "3     1.602849     -1.621116      1.550013      0.981537  ...   \n",
       "4     0.412503     -1.284291     -0.536575      0.591935  ...   \n",
       "\n",
       "   debit_amount_jun  credit_amount_jun  credit_count_jun  debit_count_jun  \\\n",
       "0         -0.439615          -0.329553         -0.968261        -0.821862   \n",
       "1         -1.287067          -0.963840         -0.437775         0.278711   \n",
       "2         -0.369276          -0.259528         -0.583902        -1.078774   \n",
       "3          0.817025           0.922901          0.647749        -3.333509   \n",
       "4         -0.970934          -0.048973         -0.437775         0.175540   \n",
       "\n",
       "   max_credit_amount_jun  emi_active  account_type_current  \\\n",
       "0              -0.114502   -0.805287                     1   \n",
       "1              -0.871415    1.125230                     1   \n",
       "2              -0.792283   -0.216222                     1   \n",
       "3               0.915314   -1.705408                     1   \n",
       "4               0.377587   -0.165147                     1   \n",
       "\n",
       "   account_type_saving  gender_F  gender_M  \n",
       "0                    0         0         1  \n",
       "1                    0         0         1  \n",
       "2                    0         0         1  \n",
       "3                    0         0         1  \n",
       "4                    0         0         1  \n",
       "\n",
       "[5 rows x 38 columns]"
      ]
     },
     "execution_count": 121,
     "metadata": {},
     "output_type": "execute_result"
    }
   ],
   "source": [
    "test_scaled.head()"
   ]
  },
  {
   "cell_type": "code",
   "execution_count": 122,
   "metadata": {},
   "outputs": [],
   "source": [
    "y_pred_rf = rf_model.predict(test_scaled)"
   ]
  },
  {
   "cell_type": "code",
   "execution_count": 123,
   "metadata": {},
   "outputs": [
    {
     "data": {
      "text/plain": [
       "array([13149.08488401,  7428.2937936 , 24986.11235951, ...,\n",
       "       11025.69895058,  9711.10841681, 34126.48099037])"
      ]
     },
     "execution_count": 123,
     "metadata": {},
     "output_type": "execute_result"
    }
   ],
   "source": [
    "np.expm1(y_pred_rf)"
   ]
  },
  {
   "cell_type": "code",
   "execution_count": 124,
   "metadata": {},
   "outputs": [],
   "source": [
    "to_submit = pd.DataFrame({'ID': test_data['ID'], 'cc_cons': np.expm1(y_pred_rf)} )"
   ]
  },
  {
   "cell_type": "code",
   "execution_count": 125,
   "metadata": {},
   "outputs": [],
   "source": [
    "to_submit.to_csv('full_data_train.csv', index=False)"
   ]
  },
  {
   "cell_type": "code",
   "execution_count": 126,
   "metadata": {},
   "outputs": [
    {
     "data": {
      "text/html": [
       "<div>\n",
       "<style scoped>\n",
       "    .dataframe tbody tr th:only-of-type {\n",
       "        vertical-align: middle;\n",
       "    }\n",
       "\n",
       "    .dataframe tbody tr th {\n",
       "        vertical-align: top;\n",
       "    }\n",
       "\n",
       "    .dataframe thead th {\n",
       "        text-align: right;\n",
       "    }\n",
       "</style>\n",
       "<table border=\"1\" class=\"dataframe\">\n",
       "  <thead>\n",
       "    <tr style=\"text-align: right;\">\n",
       "      <th></th>\n",
       "      <th>ID</th>\n",
       "      <th>cc_cons</th>\n",
       "    </tr>\n",
       "  </thead>\n",
       "  <tbody>\n",
       "    <tr>\n",
       "      <th>0</th>\n",
       "      <td>17591</td>\n",
       "      <td>13149.084884</td>\n",
       "    </tr>\n",
       "    <tr>\n",
       "      <th>1</th>\n",
       "      <td>13541</td>\n",
       "      <td>7428.293794</td>\n",
       "    </tr>\n",
       "    <tr>\n",
       "      <th>2</th>\n",
       "      <td>13431</td>\n",
       "      <td>24986.112360</td>\n",
       "    </tr>\n",
       "    <tr>\n",
       "      <th>3</th>\n",
       "      <td>8687</td>\n",
       "      <td>23094.751334</td>\n",
       "    </tr>\n",
       "    <tr>\n",
       "      <th>4</th>\n",
       "      <td>14727</td>\n",
       "      <td>14515.303542</td>\n",
       "    </tr>\n",
       "  </tbody>\n",
       "</table>\n",
       "</div>"
      ],
      "text/plain": [
       "      ID       cc_cons\n",
       "0  17591  13149.084884\n",
       "1  13541   7428.293794\n",
       "2  13431  24986.112360\n",
       "3   8687  23094.751334\n",
       "4  14727  14515.303542"
      ]
     },
     "execution_count": 126,
     "metadata": {},
     "output_type": "execute_result"
    }
   ],
   "source": [
    "to_submit.head()"
   ]
  },
  {
   "cell_type": "markdown",
   "metadata": {},
   "source": [
    "### We are getting RMSLE score of 0.7 on train and 1.7 on test. There is a possibility of overfitting. Applying L1 (Lasso) regularisation to check if it improves test RMSLE"
   ]
  },
  {
   "cell_type": "code",
   "execution_count": 148,
   "metadata": {},
   "outputs": [],
   "source": [
    "lasso_m_ = Lasso()\n",
    "alpha  = [0.001,0.005,0.01,0.3,0.1,0.3,0.5,0.7,1]\n",
    "lasso_params_ = { 'max_iter':[500],'alpha':alpha}\n",
    "rmsle_scorer = metrics.make_scorer(rmsle, greater_is_better=False)\n",
    "grid_lasso_m = GridSearchCV( lasso_m_, lasso_params_, scoring=rmsle_scorer, cv=5) #cv is the number of folds for cross validations"
   ]
  },
  {
   "cell_type": "code",
   "execution_count": 149,
   "metadata": {},
   "outputs": [
    {
     "data": {
      "text/plain": [
       "GridSearchCV(cv=5, error_score='raise-deprecating',\n",
       "             estimator=Lasso(alpha=1.0, copy_X=True, fit_intercept=True,\n",
       "                             max_iter=1000, normalize=False, positive=False,\n",
       "                             precompute=False, random_state=None,\n",
       "                             selection='cyclic', tol=0.0001, warm_start=False),\n",
       "             iid='warn', n_jobs=None,\n",
       "             param_grid={'alpha': [0.001, 0.005, 0.01, 0.3, 0.1, 0.3, 0.5, 0.7,\n",
       "                                   1],\n",
       "                         'max_iter': [500]},\n",
       "             pre_dispatch='2*n_jobs', refit=True, return_train_score=False,\n",
       "             scoring=make_scorer(rmsle, greater_is_better=False), verbose=0)"
      ]
     },
     "execution_count": 149,
     "metadata": {},
     "output_type": "execute_result"
    }
   ],
   "source": [
    "grid_lasso_m.fit(X = X_train,y =y_train)"
   ]
  },
  {
   "cell_type": "code",
   "execution_count": 150,
   "metadata": {},
   "outputs": [],
   "source": [
    "pred_lasso = grid_lasso_m.predict(X= X_test)"
   ]
  },
  {
   "cell_type": "code",
   "execution_count": 151,
   "metadata": {},
   "outputs": [
    {
     "data": {
      "text/plain": [
       "array([15442.85862846, 15442.85862846, 15442.85862846, ...,\n",
       "       15442.85862846, 15442.85862846, 15442.85862846])"
      ]
     },
     "execution_count": 151,
     "metadata": {},
     "output_type": "execute_result"
    }
   ],
   "source": [
    "np.expm1(pred_lasso)"
   ]
  },
  {
   "cell_type": "code",
   "execution_count": 152,
   "metadata": {},
   "outputs": [
    {
     "name": "stdout",
     "output_type": "stream",
     "text": [
      "{'alpha': 0.3, 'max_iter': 500}\n"
     ]
    }
   ],
   "source": [
    "#getting the optimum value of alpha and iterations\n",
    "print (grid_lasso_m.best_params_)"
   ]
  },
  {
   "cell_type": "code",
   "execution_count": 153,
   "metadata": {},
   "outputs": [
    {
     "name": "stdout",
     "output_type": "stream",
     "text": [
      "1.6213138121885475\n"
     ]
    }
   ],
   "source": [
    "print(rmsle(np.expm1(y_test), np.expm1(pred_lasso)))"
   ]
  },
  {
   "cell_type": "code",
   "execution_count": 133,
   "metadata": {},
   "outputs": [
    {
     "data": {
      "text/plain": [
       "<matplotlib.collections.PathCollection at 0xb4ed10e278>"
      ]
     },
     "execution_count": 133,
     "metadata": {},
     "output_type": "execute_result"
    },
    {
     "data": {
      "image/png": "[encoded data removed]",
      "text/plain": [
       "<Figure size 576x720 with 1 Axes>"
      ]
     },
     "metadata": {
      "needs_background": "light"
     },
     "output_type": "display_data"
    }
   ],
   "source": [
    "plt.scatter(x=y_test, y=pred_lasso)"
   ]
  },
  {
   "cell_type": "code",
   "execution_count": 134,
   "metadata": {},
   "outputs": [
    {
     "data": {
      "text/html": [
       "<div>\n",
       "<style scoped>\n",
       "    .dataframe tbody tr th:only-of-type {\n",
       "        vertical-align: middle;\n",
       "    }\n",
       "\n",
       "    .dataframe tbody tr th {\n",
       "        vertical-align: top;\n",
       "    }\n",
       "\n",
       "    .dataframe thead th {\n",
       "        text-align: right;\n",
       "    }\n",
       "</style>\n",
       "<table border=\"1\" class=\"dataframe\">\n",
       "  <thead>\n",
       "    <tr style=\"text-align: right;\">\n",
       "      <th></th>\n",
       "      <th>age</th>\n",
       "      <th>cc_cons_apr</th>\n",
       "      <th>dc_cons_apr</th>\n",
       "      <th>cc_cons_may</th>\n",
       "      <th>dc_cons_may</th>\n",
       "      <th>cc_cons_jun</th>\n",
       "      <th>dc_cons_jun</th>\n",
       "      <th>cc_count_apr</th>\n",
       "      <th>cc_count_may</th>\n",
       "      <th>cc_count_jun</th>\n",
       "      <th>...</th>\n",
       "      <th>debit_amount_jun</th>\n",
       "      <th>credit_amount_jun</th>\n",
       "      <th>credit_count_jun</th>\n",
       "      <th>debit_count_jun</th>\n",
       "      <th>max_credit_amount_jun</th>\n",
       "      <th>emi_active</th>\n",
       "      <th>account_type_current</th>\n",
       "      <th>account_type_saving</th>\n",
       "      <th>gender_F</th>\n",
       "      <th>gender_M</th>\n",
       "    </tr>\n",
       "  </thead>\n",
       "  <tbody>\n",
       "    <tr>\n",
       "      <th>0</th>\n",
       "      <td>-0.385203</td>\n",
       "      <td>-1.140645</td>\n",
       "      <td>-0.897598</td>\n",
       "      <td>-0.266204</td>\n",
       "      <td>-1.493851</td>\n",
       "      <td>0.336163</td>\n",
       "      <td>1.372493</td>\n",
       "      <td>-0.859940</td>\n",
       "      <td>-0.536575</td>\n",
       "      <td>-1.581341</td>\n",
       "      <td>...</td>\n",
       "      <td>-0.439615</td>\n",
       "      <td>-0.329553</td>\n",
       "      <td>-0.968261</td>\n",
       "      <td>-0.821862</td>\n",
       "      <td>-0.114502</td>\n",
       "      <td>-0.805287</td>\n",
       "      <td>1</td>\n",
       "      <td>0</td>\n",
       "      <td>0</td>\n",
       "      <td>1</td>\n",
       "    </tr>\n",
       "    <tr>\n",
       "      <th>1</th>\n",
       "      <td>-0.800133</td>\n",
       "      <td>1.042641</td>\n",
       "      <td>-0.695185</td>\n",
       "      <td>-1.445788</td>\n",
       "      <td>-0.339122</td>\n",
       "      <td>0.505836</td>\n",
       "      <td>-1.043106</td>\n",
       "      <td>-1.045309</td>\n",
       "      <td>-0.536575</td>\n",
       "      <td>-1.581341</td>\n",
       "      <td>...</td>\n",
       "      <td>-1.287067</td>\n",
       "      <td>-0.963840</td>\n",
       "      <td>-0.437775</td>\n",
       "      <td>0.278711</td>\n",
       "      <td>-0.871415</td>\n",
       "      <td>1.125230</td>\n",
       "      <td>1</td>\n",
       "      <td>0</td>\n",
       "      <td>0</td>\n",
       "      <td>1</td>\n",
       "    </tr>\n",
       "    <tr>\n",
       "      <th>2</th>\n",
       "      <td>0.925696</td>\n",
       "      <td>-0.434391</td>\n",
       "      <td>0.425042</td>\n",
       "      <td>-1.011962</td>\n",
       "      <td>-1.382914</td>\n",
       "      <td>-2.067004</td>\n",
       "      <td>0.226743</td>\n",
       "      <td>-0.469501</td>\n",
       "      <td>0.442867</td>\n",
       "      <td>-1.406152</td>\n",
       "      <td>...</td>\n",
       "      <td>-0.369276</td>\n",
       "      <td>-0.259528</td>\n",
       "      <td>-0.583902</td>\n",
       "      <td>-1.078774</td>\n",
       "      <td>-0.792283</td>\n",
       "      <td>-0.216222</td>\n",
       "      <td>1</td>\n",
       "      <td>0</td>\n",
       "      <td>0</td>\n",
       "      <td>1</td>\n",
       "    </tr>\n",
       "    <tr>\n",
       "      <th>3</th>\n",
       "      <td>-0.800133</td>\n",
       "      <td>-1.403360</td>\n",
       "      <td>1.336252</td>\n",
       "      <td>1.304573</td>\n",
       "      <td>-2.740619</td>\n",
       "      <td>-0.384820</td>\n",
       "      <td>1.602849</td>\n",
       "      <td>-1.621116</td>\n",
       "      <td>1.550013</td>\n",
       "      <td>0.981537</td>\n",
       "      <td>...</td>\n",
       "      <td>0.817025</td>\n",
       "      <td>0.922901</td>\n",
       "      <td>0.647749</td>\n",
       "      <td>-3.333509</td>\n",
       "      <td>0.915314</td>\n",
       "      <td>-1.705408</td>\n",
       "      <td>1</td>\n",
       "      <td>0</td>\n",
       "      <td>0</td>\n",
       "      <td>1</td>\n",
       "    </tr>\n",
       "    <tr>\n",
       "      <th>4</th>\n",
       "      <td>1.500759</td>\n",
       "      <td>-0.995480</td>\n",
       "      <td>-0.048139</td>\n",
       "      <td>-0.868599</td>\n",
       "      <td>-0.257422</td>\n",
       "      <td>-0.605046</td>\n",
       "      <td>0.412503</td>\n",
       "      <td>-1.284291</td>\n",
       "      <td>-0.536575</td>\n",
       "      <td>0.591935</td>\n",
       "      <td>...</td>\n",
       "      <td>-0.970934</td>\n",
       "      <td>-0.048973</td>\n",
       "      <td>-0.437775</td>\n",
       "      <td>0.175540</td>\n",
       "      <td>0.377587</td>\n",
       "      <td>-0.165147</td>\n",
       "      <td>1</td>\n",
       "      <td>0</td>\n",
       "      <td>0</td>\n",
       "      <td>1</td>\n",
       "    </tr>\n",
       "  </tbody>\n",
       "</table>\n",
       "<p>5 rows × 38 columns</p>\n",
       "</div>"
      ],
      "text/plain": [
       "        age  cc_cons_apr  dc_cons_apr  cc_cons_may  dc_cons_may  cc_cons_jun  \\\n",
       "0 -0.385203    -1.140645    -0.897598    -0.266204    -1.493851     0.336163   \n",
       "1 -0.800133     1.042641    -0.695185    -1.445788    -0.339122     0.505836   \n",
       "2  0.925696    -0.434391     0.425042    -1.011962    -1.382914    -2.067004   \n",
       "3 -0.800133    -1.403360     1.336252     1.304573    -2.740619    -0.384820   \n",
       "4  1.500759    -0.995480    -0.048139    -0.868599    -0.257422    -0.605046   \n",
       "\n",
       "   dc_cons_jun  cc_count_apr  cc_count_may  cc_count_jun  ...  \\\n",
       "0     1.372493     -0.859940     -0.536575     -1.581341  ...   \n",
       "1    -1.043106     -1.045309     -0.536575     -1.581341  ...   \n",
       "2     0.226743     -0.469501      0.442867     -1.406152  ...   \n",
       "3     1.602849     -1.621116      1.550013      0.981537  ...   \n",
       "4     0.412503     -1.284291     -0.536575      0.591935  ...   \n",
       "\n",
       "   debit_amount_jun  credit_amount_jun  credit_count_jun  debit_count_jun  \\\n",
       "0         -0.439615          -0.329553         -0.968261        -0.821862   \n",
       "1         -1.287067          -0.963840         -0.437775         0.278711   \n",
       "2         -0.369276          -0.259528         -0.583902        -1.078774   \n",
       "3          0.817025           0.922901          0.647749        -3.333509   \n",
       "4         -0.970934          -0.048973         -0.437775         0.175540   \n",
       "\n",
       "   max_credit_amount_jun  emi_active  account_type_current  \\\n",
       "0              -0.114502   -0.805287                     1   \n",
       "1              -0.871415    1.125230                     1   \n",
       "2              -0.792283   -0.216222                     1   \n",
       "3               0.915314   -1.705408                     1   \n",
       "4               0.377587   -0.165147                     1   \n",
       "\n",
       "   account_type_saving  gender_F  gender_M  \n",
       "0                    0         0         1  \n",
       "1                    0         0         1  \n",
       "2                    0         0         1  \n",
       "3                    0         0         1  \n",
       "4                    0         0         1  \n",
       "\n",
       "[5 rows x 38 columns]"
      ]
     },
     "execution_count": 134,
     "metadata": {},
     "output_type": "execute_result"
    }
   ],
   "source": [
    "test_data = pd.read_csv('Test.csv')\n",
    "test_scaled = custom_pipeline(test_data, scaler_train)\n",
    "test_scaled.head()"
   ]
  },
  {
   "cell_type": "code",
   "execution_count": 135,
   "metadata": {},
   "outputs": [
    {
     "data": {
      "text/plain": [
       "array([9.6449667, 9.6449667, 9.6449667, ..., 9.6449667, 9.6449667,\n",
       "       9.6449667])"
      ]
     },
     "execution_count": 135,
     "metadata": {},
     "output_type": "execute_result"
    }
   ],
   "source": [
    "pred_l1_test = grid_lasso_m.predict(test_scaled)\n",
    "pred_l1_test"
   ]
  },
  {
   "cell_type": "code",
   "execution_count": 136,
   "metadata": {},
   "outputs": [
    {
     "data": {
      "text/html": [
       "<div>\n",
       "<style scoped>\n",
       "    .dataframe tbody tr th:only-of-type {\n",
       "        vertical-align: middle;\n",
       "    }\n",
       "\n",
       "    .dataframe tbody tr th {\n",
       "        vertical-align: top;\n",
       "    }\n",
       "\n",
       "    .dataframe thead th {\n",
       "        text-align: right;\n",
       "    }\n",
       "</style>\n",
       "<table border=\"1\" class=\"dataframe\">\n",
       "  <thead>\n",
       "    <tr style=\"text-align: right;\">\n",
       "      <th></th>\n",
       "      <th>ID</th>\n",
       "      <th>cc_cons</th>\n",
       "    </tr>\n",
       "  </thead>\n",
       "  <tbody>\n",
       "    <tr>\n",
       "      <th>0</th>\n",
       "      <td>17591</td>\n",
       "      <td>15442.858628</td>\n",
       "    </tr>\n",
       "    <tr>\n",
       "      <th>1</th>\n",
       "      <td>13541</td>\n",
       "      <td>15442.858628</td>\n",
       "    </tr>\n",
       "    <tr>\n",
       "      <th>2</th>\n",
       "      <td>13431</td>\n",
       "      <td>15442.858628</td>\n",
       "    </tr>\n",
       "    <tr>\n",
       "      <th>3</th>\n",
       "      <td>8687</td>\n",
       "      <td>15442.858628</td>\n",
       "    </tr>\n",
       "    <tr>\n",
       "      <th>4</th>\n",
       "      <td>14727</td>\n",
       "      <td>15442.858628</td>\n",
       "    </tr>\n",
       "  </tbody>\n",
       "</table>\n",
       "</div>"
      ],
      "text/plain": [
       "      ID       cc_cons\n",
       "0  17591  15442.858628\n",
       "1  13541  15442.858628\n",
       "2  13431  15442.858628\n",
       "3   8687  15442.858628\n",
       "4  14727  15442.858628"
      ]
     },
     "execution_count": 136,
     "metadata": {},
     "output_type": "execute_result"
    }
   ],
   "source": [
    "to_submit = pd.DataFrame({'ID': test_data['ID'], 'cc_cons': np.expm1(pred_l1_test)} )\n",
    "to_submit.to_csv('lasso_pred.csv', index=False)\n",
    "to_submit.head()"
   ]
  },
  {
   "cell_type": "markdown",
   "metadata": {},
   "source": [
    "### After applying Lasso the train and test RMSLE score are same...hence the problem of overfitting is removed"
   ]
  },
  {
   "cell_type": "code",
   "execution_count": 137,
   "metadata": {},
   "outputs": [
    {
     "name": "stdout",
     "output_type": "stream",
     "text": [
      "Best alpha using built-in LassoCV: 0.050728\n",
      "Best score using built-in LassoCV: 0.000117\n"
     ]
    }
   ],
   "source": [
    "reg = LassoCV()\n",
    "reg.fit(X_train, y_train)\n",
    "print(\"Best alpha using built-in LassoCV: %f\" % reg.alpha_)\n",
    "print(\"Best score using built-in LassoCV: %f\" %reg.score(X,y))\n",
    "coef = pd.Series(reg.coef_, index = X.columns)"
   ]
  },
  {
   "cell_type": "code",
   "execution_count": 138,
   "metadata": {},
   "outputs": [
    {
     "name": "stdout",
     "output_type": "stream",
     "text": [
      "Lasso picked 1 variables and eliminated the other 37 variables\n"
     ]
    }
   ],
   "source": [
    "print(\"Lasso picked \" + str(sum(coef != 0)) + \" variables and eliminated the other \" +  str(sum(coef == 0)) + \" variables\")"
   ]
  },
  {
   "cell_type": "code",
   "execution_count": 139,
   "metadata": {},
   "outputs": [
    {
     "data": {
      "text/plain": [
       "Text(0.5, 1.0, 'Feature importance using Lasso Model')"
      ]
     },
     "execution_count": 139,
     "metadata": {},
     "output_type": "execute_result"
    },
    {
     "data": {
      "image/png": "[encoded data removed]",
      "text/plain": [
       "<Figure size 576x720 with 1 Axes>"
      ]
     },
     "metadata": {
      "needs_background": "light"
     },
     "output_type": "display_data"
    }
   ],
   "source": [
    "imp_coef = coef.sort_values()\n",
    "import matplotlib\n",
    "matplotlib.rcParams['figure.figsize'] = (8.0, 10.0)\n",
    "imp_coef.plot(kind = \"barh\")\n",
    "plt.title(\"Feature importance using Lasso Model\")"
   ]
  },
  {
   "cell_type": "markdown",
   "metadata": {},
   "source": [
    "### Lasso almost removes all variables..this might be due to multi-collinearity amongst the variables"
   ]
  },
  {
   "cell_type": "code",
   "execution_count": 144,
   "metadata": {},
   "outputs": [],
   "source": [
    "rf_model = RandomForestRegressor()\n",
    "rfe = RFE(rf_model, 7)"
   ]
  },
  {
   "cell_type": "code",
   "execution_count": 145,
   "metadata": {},
   "outputs": [],
   "source": [
    "X_rfe = rfe.fit_transform(X,y)"
   ]
  },
  {
   "cell_type": "code",
   "execution_count": 146,
   "metadata": {},
   "outputs": [
    {
     "name": "stdout",
     "output_type": "stream",
     "text": [
      "[False  True  True False False False  True False False False False False\n",
      " False False False False False False False False False False  True False\n",
      " False False False  True False  True False False  True False False False\n",
      " False False]\n",
      "[23  1  1  2 11  4  1 22 20 19 24 25 21 13  7  9 15 14 10  3 18 27  1 12\n",
      "  6 28 16  1  5  1 26 17  1  8 31 30 29 32]\n"
     ]
    }
   ],
   "source": [
    "rf_model.fit(X_rfe,y)\n",
    "print(rfe.support_)\n",
    "print(rfe.ranking_)"
   ]
  },
  {
   "cell_type": "code",
   "execution_count": 147,
   "metadata": {},
   "outputs": [
    {
     "data": {
      "text/plain": [
       "(14466, 38)"
      ]
     },
     "execution_count": 147,
     "metadata": {},
     "output_type": "execute_result"
    }
   ],
   "source": [
    "X.shape"
   ]
  },
  {
   "cell_type": "code",
   "execution_count": 59,
   "metadata": {},
   "outputs": [
    {
     "name": "stdout",
     "output_type": "stream",
     "text": [
      "27\n",
      "[ 9.52980154 10.57875828 10.37270967 ...  9.17988928 10.51704671\n",
      "  9.60016513]\n",
      "1.7049779866341208\n",
      "28\n",
      "[ 9.48076024  9.62354336 10.74332571 ...  9.80432031  9.19360741\n",
      "  9.09373121]\n",
      "1.6998404440644597\n"
     ]
    }
   ],
   "source": [
    "#no of features\n",
    "nof_list=np.arange(27,29)   #we currently had 38 features          \n",
    "lowest_rmsle_score=0\n",
    "#Variable to store the optimum features\n",
    "nof=0           \n",
    "score_list =[]\n",
    "for n in range(len(nof_list)):\n",
    "    X_train, X_test, y_train, y_test = train_test_split(X,y, test_size = 0.3, random_state = 0)\n",
    "    model = RandomForestRegressor()\n",
    "    rfe = RFE(model,nof_list[n])\n",
    "    print(nof_list[n])\n",
    "    X_train_rfe = rfe.fit_transform(X_train,y_train)\n",
    "    X_test_rfe = rfe.transform(X_test)\n",
    "    model.fit(X_train_rfe,y_train)\n",
    "    rfe_pred = model.predict(X_test_rfe)\n",
    "    print(rfe_pred)\n",
    "    rmsle_score = rmsle(np.expm1(y_test), np.expm1(rfe_pred))\n",
    "    print(rmsle_score)\n",
    "    if(rmsle_score < lowest_rmsle_score):\n",
    "        lowest_rmsle_score = rmsle_score\n",
    "        nof = nof_list[n]"
   ]
  },
  {
   "cell_type": "markdown",
   "metadata": {},
   "source": [
    "### RFE gave optimum number of features as 28. Fitting the RFE model on this number of features"
   ]
  },
  {
   "cell_type": "code",
   "execution_count": 60,
   "metadata": {},
   "outputs": [
    {
     "name": "stdout",
     "output_type": "stream",
     "text": [
      "Index(['cc_cons_apr', 'dc_cons_apr', 'cc_cons_may', 'dc_cons_may',\n",
      "       'cc_cons_jun', 'dc_cons_jun', 'cc_count_apr', 'cc_count_may',\n",
      "       'cc_count_jun', 'dc_count_jun', 'card_lim', 'investment_1',\n",
      "       'investment_2', 'investment_3', 'investment_4', 'debit_amount_apr',\n",
      "       'credit_amount_apr', 'debit_count_apr', 'max_credit_amount_apr',\n",
      "       'debit_amount_may', 'credit_amount_may', 'debit_count_may',\n",
      "       'max_credit_amount_may', 'debit_amount_jun', 'credit_amount_jun',\n",
      "       'debit_count_jun', 'max_credit_amount_jun', 'emi_active'],\n",
      "      dtype='object')\n"
     ]
    }
   ],
   "source": [
    "cols = list(X.columns)\n",
    "model = RandomForestRegressor()#Initializing RFE model\n",
    "rfe = RFE(model, 28)             #Transforming data using RFE\n",
    "X_rfe = rfe.fit_transform(X,y)  #Fitting the data to model\n",
    "model.fit(X_rfe,y)              \n",
    "temp = pd.Series(rfe.support_,index = cols)\n",
    "selected_features_rfe = temp[temp==True].index\n",
    "print(selected_features_rfe)"
   ]
  },
  {
   "cell_type": "code",
   "execution_count": 61,
   "metadata": {},
   "outputs": [],
   "source": [
    "selected_feat = ['age', 'cc_cons_apr', 'dc_cons_apr', 'cc_cons_may', 'dc_cons_may',\n",
    "       'cc_cons_jun', 'dc_cons_jun', 'cc_count_apr', 'cc_count_may',\n",
    "       'cc_count_jun', 'card_lim', 'investment_1', 'investment_2',\n",
    "       'investment_3', 'investment_4', 'debit_amount_apr', 'credit_amount_apr',\n",
    "       'debit_count_apr', 'max_credit_amount_apr', 'debit_amount_may',\n",
    "       'credit_amount_may', 'debit_count_may', 'max_credit_amount_may',\n",
    "       'debit_amount_jun', 'credit_amount_jun', 'debit_count_jun',\n",
    "       'max_credit_amount_jun', 'emi_active']\n"
   ]
  },
  {
   "cell_type": "code",
   "execution_count": 62,
   "metadata": {},
   "outputs": [],
   "source": [
    "X_sel = X[selected_feat]"
   ]
  },
  {
   "cell_type": "code",
   "execution_count": 63,
   "metadata": {},
   "outputs": [
    {
     "name": "stdout",
     "output_type": "stream",
     "text": [
      "Training score: 0.0034245355608860657\n",
      "Test score: -0.002800496762705995\n"
     ]
    }
   ],
   "source": [
    "#assessing linear model on this data\n",
    "X_train, X_test, y_train, y_test = train_test_split(X_sel, y, test_size=0.33, random_state=12)\n",
    "linear_model = LinearRegression()\n",
    "linear_model.fit(X_train, y_train)\n",
    "y_pred = linear_model.predict(X_test)\n",
    "print(\"Training score: \"+str(linear_model.score(X_train, y_train)))\n",
    "print(\"Test score: \"+str(linear_model.score(X_test, y_test)))"
   ]
  },
  {
   "cell_type": "code",
   "execution_count": 64,
   "metadata": {},
   "outputs": [
    {
     "name": "stdout",
     "output_type": "stream",
     "text": [
      "1.1627282574628253\n",
      "2.6161636920898674\n",
      "1.6174559320395308\n"
     ]
    }
   ],
   "source": [
    "print(metrics.mean_absolute_error(y_test, y_pred))\n",
    "print(metrics.mean_squared_error(y_test, y_pred))\n",
    "print(np.sqrt(metrics.mean_squared_error(y_test, y_pred)))"
   ]
  },
  {
   "cell_type": "code",
   "execution_count": 65,
   "metadata": {},
   "outputs": [
    {
     "name": "stdout",
     "output_type": "stream",
     "text": [
      "1.6174559320395316\n"
     ]
    }
   ],
   "source": [
    "print(rmsle(np.expm1(y_test), np.expm1(y_pred)))"
   ]
  },
  {
   "cell_type": "code",
   "execution_count": 66,
   "metadata": {},
   "outputs": [
    {
     "data": {
      "text/html": [
       "<div>\n",
       "<style scoped>\n",
       "    .dataframe tbody tr th:only-of-type {\n",
       "        vertical-align: middle;\n",
       "    }\n",
       "\n",
       "    .dataframe tbody tr th {\n",
       "        vertical-align: top;\n",
       "    }\n",
       "\n",
       "    .dataframe thead th {\n",
       "        text-align: right;\n",
       "    }\n",
       "</style>\n",
       "<table border=\"1\" class=\"dataframe\">\n",
       "  <thead>\n",
       "    <tr style=\"text-align: right;\">\n",
       "      <th></th>\n",
       "      <th>age</th>\n",
       "      <th>cc_cons_apr</th>\n",
       "      <th>dc_cons_apr</th>\n",
       "      <th>cc_cons_may</th>\n",
       "      <th>dc_cons_may</th>\n",
       "      <th>cc_cons_jun</th>\n",
       "      <th>dc_cons_jun</th>\n",
       "      <th>cc_count_apr</th>\n",
       "      <th>cc_count_may</th>\n",
       "      <th>cc_count_jun</th>\n",
       "      <th>...</th>\n",
       "      <th>max_credit_amount_apr</th>\n",
       "      <th>debit_amount_may</th>\n",
       "      <th>credit_amount_may</th>\n",
       "      <th>debit_count_may</th>\n",
       "      <th>max_credit_amount_may</th>\n",
       "      <th>debit_amount_jun</th>\n",
       "      <th>credit_amount_jun</th>\n",
       "      <th>debit_count_jun</th>\n",
       "      <th>max_credit_amount_jun</th>\n",
       "      <th>emi_active</th>\n",
       "    </tr>\n",
       "  </thead>\n",
       "  <tbody>\n",
       "    <tr>\n",
       "      <th>0</th>\n",
       "      <td>-0.432509</td>\n",
       "      <td>-1.141164</td>\n",
       "      <td>-0.897372</td>\n",
       "      <td>-0.265498</td>\n",
       "      <td>-1.493053</td>\n",
       "      <td>0.337452</td>\n",
       "      <td>1.367558</td>\n",
       "      <td>-0.860677</td>\n",
       "      <td>-0.539222</td>\n",
       "      <td>-1.580945</td>\n",
       "      <td>...</td>\n",
       "      <td>-0.475478</td>\n",
       "      <td>-0.523079</td>\n",
       "      <td>-0.122537</td>\n",
       "      <td>-0.224610</td>\n",
       "      <td>-1.478914</td>\n",
       "      <td>-0.435913</td>\n",
       "      <td>-0.329662</td>\n",
       "      <td>-0.822768</td>\n",
       "      <td>-0.117456</td>\n",
       "      <td>-0.807599</td>\n",
       "    </tr>\n",
       "    <tr>\n",
       "      <th>1</th>\n",
       "      <td>-0.834163</td>\n",
       "      <td>1.041463</td>\n",
       "      <td>-0.695069</td>\n",
       "      <td>-1.445321</td>\n",
       "      <td>-0.338759</td>\n",
       "      <td>0.506929</td>\n",
       "      <td>-1.041570</td>\n",
       "      <td>-1.045959</td>\n",
       "      <td>-0.539222</td>\n",
       "      <td>-1.580945</td>\n",
       "      <td>...</td>\n",
       "      <td>-3.332659</td>\n",
       "      <td>-1.003076</td>\n",
       "      <td>1.060511</td>\n",
       "      <td>0.472196</td>\n",
       "      <td>-0.803141</td>\n",
       "      <td>-1.284128</td>\n",
       "      <td>-0.966051</td>\n",
       "      <td>0.277558</td>\n",
       "      <td>-0.877837</td>\n",
       "      <td>1.125516</td>\n",
       "    </tr>\n",
       "    <tr>\n",
       "      <th>2</th>\n",
       "      <td>0.836445</td>\n",
       "      <td>-0.435123</td>\n",
       "      <td>0.424547</td>\n",
       "      <td>-1.011407</td>\n",
       "      <td>-1.382158</td>\n",
       "      <td>-2.062939</td>\n",
       "      <td>0.224878</td>\n",
       "      <td>-0.470419</td>\n",
       "      <td>0.441097</td>\n",
       "      <td>-1.405771</td>\n",
       "      <td>...</td>\n",
       "      <td>-1.186847</td>\n",
       "      <td>1.346367</td>\n",
       "      <td>-0.156265</td>\n",
       "      <td>0.336748</td>\n",
       "      <td>0.127898</td>\n",
       "      <td>-0.365511</td>\n",
       "      <td>-0.259404</td>\n",
       "      <td>-1.079622</td>\n",
       "      <td>-0.798343</td>\n",
       "      <td>-0.217741</td>\n",
       "    </tr>\n",
       "    <tr>\n",
       "      <th>3</th>\n",
       "      <td>-0.834163</td>\n",
       "      <td>-1.403799</td>\n",
       "      <td>1.335261</td>\n",
       "      <td>1.305597</td>\n",
       "      <td>-2.739351</td>\n",
       "      <td>-0.382698</td>\n",
       "      <td>1.597297</td>\n",
       "      <td>-1.621500</td>\n",
       "      <td>1.549234</td>\n",
       "      <td>0.981723</td>\n",
       "      <td>...</td>\n",
       "      <td>2.790743</td>\n",
       "      <td>1.030872</td>\n",
       "      <td>0.025560</td>\n",
       "      <td>-1.529347</td>\n",
       "      <td>1.333946</td>\n",
       "      <td>0.821859</td>\n",
       "      <td>0.926944</td>\n",
       "      <td>-3.333848</td>\n",
       "      <td>0.917079</td>\n",
       "      <td>-1.708932</td>\n",
       "    </tr>\n",
       "    <tr>\n",
       "      <th>4</th>\n",
       "      <td>1.393108</td>\n",
       "      <td>-0.996043</td>\n",
       "      <td>-0.048376</td>\n",
       "      <td>-0.868015</td>\n",
       "      <td>-0.257089</td>\n",
       "      <td>-0.602670</td>\n",
       "      <td>0.410139</td>\n",
       "      <td>-1.284830</td>\n",
       "      <td>-0.539222</td>\n",
       "      <td>0.592153</td>\n",
       "      <td>...</td>\n",
       "      <td>-1.231413</td>\n",
       "      <td>1.726877</td>\n",
       "      <td>-0.617961</td>\n",
       "      <td>1.114962</td>\n",
       "      <td>-0.194873</td>\n",
       "      <td>-0.967710</td>\n",
       "      <td>-0.048151</td>\n",
       "      <td>0.174410</td>\n",
       "      <td>0.376888</td>\n",
       "      <td>-0.166597</td>\n",
       "    </tr>\n",
       "  </tbody>\n",
       "</table>\n",
       "<p>5 rows × 28 columns</p>\n",
       "</div>"
      ],
      "text/plain": [
       "        age  cc_cons_apr  dc_cons_apr  cc_cons_may  dc_cons_may  cc_cons_jun  \\\n",
       "0 -0.432509    -1.141164    -0.897372    -0.265498    -1.493053     0.337452   \n",
       "1 -0.834163     1.041463    -0.695069    -1.445321    -0.338759     0.506929   \n",
       "2  0.836445    -0.435123     0.424547    -1.011407    -1.382158    -2.062939   \n",
       "3 -0.834163    -1.403799     1.335261     1.305597    -2.739351    -0.382698   \n",
       "4  1.393108    -0.996043    -0.048376    -0.868015    -0.257089    -0.602670   \n",
       "\n",
       "   dc_cons_jun  cc_count_apr  cc_count_may  cc_count_jun  ...  \\\n",
       "0     1.367558     -0.860677     -0.539222     -1.580945  ...   \n",
       "1    -1.041570     -1.045959     -0.539222     -1.580945  ...   \n",
       "2     0.224878     -0.470419      0.441097     -1.405771  ...   \n",
       "3     1.597297     -1.621500      1.549234      0.981723  ...   \n",
       "4     0.410139     -1.284830     -0.539222      0.592153  ...   \n",
       "\n",
       "   max_credit_amount_apr  debit_amount_may  credit_amount_may  \\\n",
       "0              -0.475478         -0.523079          -0.122537   \n",
       "1              -3.332659         -1.003076           1.060511   \n",
       "2              -1.186847          1.346367          -0.156265   \n",
       "3               2.790743          1.030872           0.025560   \n",
       "4              -1.231413          1.726877          -0.617961   \n",
       "\n",
       "   debit_count_may  max_credit_amount_may  debit_amount_jun  \\\n",
       "0        -0.224610              -1.478914         -0.435913   \n",
       "1         0.472196              -0.803141         -1.284128   \n",
       "2         0.336748               0.127898         -0.365511   \n",
       "3        -1.529347               1.333946          0.821859   \n",
       "4         1.114962              -0.194873         -0.967710   \n",
       "\n",
       "   credit_amount_jun  debit_count_jun  max_credit_amount_jun  emi_active  \n",
       "0          -0.329662        -0.822768              -0.117456   -0.807599  \n",
       "1          -0.966051         0.277558              -0.877837    1.125516  \n",
       "2          -0.259404        -1.079622              -0.798343   -0.217741  \n",
       "3           0.926944        -3.333848               0.917079   -1.708932  \n",
       "4          -0.048151         0.174410               0.376888   -0.166597  \n",
       "\n",
       "[5 rows x 28 columns]"
      ]
     },
     "execution_count": 66,
     "metadata": {},
     "output_type": "execute_result"
    }
   ],
   "source": [
    "test_scaled = test_scaled[selected_feat]\n",
    "test_scaled.head()"
   ]
  },
  {
   "cell_type": "code",
   "execution_count": 67,
   "metadata": {},
   "outputs": [
    {
     "data": {
      "text/html": [
       "<div>\n",
       "<style scoped>\n",
       "    .dataframe tbody tr th:only-of-type {\n",
       "        vertical-align: middle;\n",
       "    }\n",
       "\n",
       "    .dataframe tbody tr th {\n",
       "        vertical-align: top;\n",
       "    }\n",
       "\n",
       "    .dataframe thead th {\n",
       "        text-align: right;\n",
       "    }\n",
       "</style>\n",
       "<table border=\"1\" class=\"dataframe\">\n",
       "  <thead>\n",
       "    <tr style=\"text-align: right;\">\n",
       "      <th></th>\n",
       "      <th>ID</th>\n",
       "      <th>cc_cons</th>\n",
       "    </tr>\n",
       "  </thead>\n",
       "  <tbody>\n",
       "    <tr>\n",
       "      <th>0</th>\n",
       "      <td>17591</td>\n",
       "      <td>15577.003991</td>\n",
       "    </tr>\n",
       "    <tr>\n",
       "      <th>1</th>\n",
       "      <td>13541</td>\n",
       "      <td>16275.399769</td>\n",
       "    </tr>\n",
       "    <tr>\n",
       "      <th>2</th>\n",
       "      <td>13431</td>\n",
       "      <td>13756.807805</td>\n",
       "    </tr>\n",
       "    <tr>\n",
       "      <th>3</th>\n",
       "      <td>8687</td>\n",
       "      <td>15648.201628</td>\n",
       "    </tr>\n",
       "    <tr>\n",
       "      <th>4</th>\n",
       "      <td>14727</td>\n",
       "      <td>14275.001738</td>\n",
       "    </tr>\n",
       "  </tbody>\n",
       "</table>\n",
       "</div>"
      ],
      "text/plain": [
       "      ID       cc_cons\n",
       "0  17591  15577.003991\n",
       "1  13541  16275.399769\n",
       "2  13431  13756.807805\n",
       "3   8687  15648.201628\n",
       "4  14727  14275.001738"
      ]
     },
     "execution_count": 67,
     "metadata": {},
     "output_type": "execute_result"
    }
   ],
   "source": [
    "lin_pred = linear_model.predict(test_scaled)\n",
    "to_submit = pd.DataFrame({'ID': test_data['ID'], 'cc_cons': np.expm1(lin_pred)} )\n",
    "to_submit.to_csv('lin_sel.csv', index=False)\n",
    "to_submit.head()"
   ]
  },
  {
   "cell_type": "code",
   "execution_count": 68,
   "metadata": {},
   "outputs": [
    {
     "name": "stdout",
     "output_type": "stream",
     "text": [
      "Training score: 0.9999999998929083\n",
      "Test score: -1.1934627879308426\n",
      "1.8275018834822498\n",
      "5.72243205329483\n",
      "2.3921605408698703\n",
      "2.392160540869871\n"
     ]
    }
   ],
   "source": [
    "dt_model = DecisionTreeRegressor(random_state=0)\n",
    "dt_model.fit(X_train, y_train)\n",
    "y_pred_dt = dt_model.predict(X_test)\n",
    "print(\"Training score: \"+str(dt_model.score(X_train, y_train)))\n",
    "print(\"Test score: \"+str(dt_model.score(X_test, y_test)))\n",
    "print(metrics.mean_absolute_error(y_test, y_pred_dt))\n",
    "print(metrics.mean_squared_error(y_test, y_pred_dt))\n",
    "print(np.sqrt(metrics.mean_squared_error(y_test, y_pred_dt)))\n",
    "print(rmsle(np.expm1(y_test), np.expm1(y_pred_dt)))"
   ]
  },
  {
   "cell_type": "code",
   "execution_count": 69,
   "metadata": {},
   "outputs": [
    {
     "data": {
      "text/html": [
       "<div>\n",
       "<style scoped>\n",
       "    .dataframe tbody tr th:only-of-type {\n",
       "        vertical-align: middle;\n",
       "    }\n",
       "\n",
       "    .dataframe tbody tr th {\n",
       "        vertical-align: top;\n",
       "    }\n",
       "\n",
       "    .dataframe thead th {\n",
       "        text-align: right;\n",
       "    }\n",
       "</style>\n",
       "<table border=\"1\" class=\"dataframe\">\n",
       "  <thead>\n",
       "    <tr style=\"text-align: right;\">\n",
       "      <th></th>\n",
       "      <th>ID</th>\n",
       "      <th>cc_cons</th>\n",
       "    </tr>\n",
       "  </thead>\n",
       "  <tbody>\n",
       "    <tr>\n",
       "      <th>0</th>\n",
       "      <td>17591</td>\n",
       "      <td>2579.0</td>\n",
       "    </tr>\n",
       "    <tr>\n",
       "      <th>1</th>\n",
       "      <td>13541</td>\n",
       "      <td>328052.0</td>\n",
       "    </tr>\n",
       "    <tr>\n",
       "      <th>2</th>\n",
       "      <td>13431</td>\n",
       "      <td>2870.0</td>\n",
       "    </tr>\n",
       "    <tr>\n",
       "      <th>3</th>\n",
       "      <td>8687</td>\n",
       "      <td>16879.0</td>\n",
       "    </tr>\n",
       "    <tr>\n",
       "      <th>4</th>\n",
       "      <td>14727</td>\n",
       "      <td>4241.0</td>\n",
       "    </tr>\n",
       "  </tbody>\n",
       "</table>\n",
       "</div>"
      ],
      "text/plain": [
       "      ID   cc_cons\n",
       "0  17591    2579.0\n",
       "1  13541  328052.0\n",
       "2  13431    2870.0\n",
       "3   8687   16879.0\n",
       "4  14727    4241.0"
      ]
     },
     "execution_count": 69,
     "metadata": {},
     "output_type": "execute_result"
    }
   ],
   "source": [
    "dt_pred = dt_model.predict(test_scaled)\n",
    "to_submit = pd.DataFrame({'ID': test_data['ID'], 'cc_cons': np.expm1(dt_pred)} )\n",
    "to_submit.to_csv('dt_sel.csv', index=False)\n",
    "to_submit.head()"
   ]
  },
  {
   "cell_type": "code",
   "execution_count": 70,
   "metadata": {},
   "outputs": [
    {
     "name": "stdout",
     "output_type": "stream",
     "text": [
      "Training score: 0.7998708056014665\n",
      "Test score: -0.1200909488258466\n",
      "1.293384306844676\n",
      "2.922157778757144\n",
      "1.709432004718861\n",
      "1.7094320047188623\n"
     ]
    }
   ],
   "source": [
    "rf_model = RandomForestRegressor(random_state=0)\n",
    "rf_model.fit(X_train, y_train)\n",
    "y_pred_rf = rf_model.predict(X_test)\n",
    "print(\"Training score: \"+str(rf_model.score(X_train, y_train)))\n",
    "print(\"Test score: \"+str(rf_model.score(X_test, y_test)))\n",
    "print(metrics.mean_absolute_error(y_test, y_pred_rf))\n",
    "print(metrics.mean_squared_error(y_test, y_pred_rf))\n",
    "print(np.sqrt(metrics.mean_squared_error(y_test, y_pred_rf)))\n",
    "print(rmsle(np.expm1(y_test), np.expm1(y_pred_rf)))"
   ]
  },
  {
   "cell_type": "code",
   "execution_count": 71,
   "metadata": {},
   "outputs": [
    {
     "data": {
      "text/html": [
       "<div>\n",
       "<style scoped>\n",
       "    .dataframe tbody tr th:only-of-type {\n",
       "        vertical-align: middle;\n",
       "    }\n",
       "\n",
       "    .dataframe tbody tr th {\n",
       "        vertical-align: top;\n",
       "    }\n",
       "\n",
       "    .dataframe thead th {\n",
       "        text-align: right;\n",
       "    }\n",
       "</style>\n",
       "<table border=\"1\" class=\"dataframe\">\n",
       "  <thead>\n",
       "    <tr style=\"text-align: right;\">\n",
       "      <th></th>\n",
       "      <th>ID</th>\n",
       "      <th>cc_cons</th>\n",
       "    </tr>\n",
       "  </thead>\n",
       "  <tbody>\n",
       "    <tr>\n",
       "      <th>0</th>\n",
       "      <td>17591</td>\n",
       "      <td>8886.520514</td>\n",
       "    </tr>\n",
       "    <tr>\n",
       "      <th>1</th>\n",
       "      <td>13541</td>\n",
       "      <td>8888.127766</td>\n",
       "    </tr>\n",
       "    <tr>\n",
       "      <th>2</th>\n",
       "      <td>13431</td>\n",
       "      <td>17293.304996</td>\n",
       "    </tr>\n",
       "    <tr>\n",
       "      <th>3</th>\n",
       "      <td>8687</td>\n",
       "      <td>13387.281530</td>\n",
       "    </tr>\n",
       "    <tr>\n",
       "      <th>4</th>\n",
       "      <td>14727</td>\n",
       "      <td>6362.621858</td>\n",
       "    </tr>\n",
       "  </tbody>\n",
       "</table>\n",
       "</div>"
      ],
      "text/plain": [
       "      ID       cc_cons\n",
       "0  17591   8886.520514\n",
       "1  13541   8888.127766\n",
       "2  13431  17293.304996\n",
       "3   8687  13387.281530\n",
       "4  14727   6362.621858"
      ]
     },
     "execution_count": 71,
     "metadata": {},
     "output_type": "execute_result"
    }
   ],
   "source": [
    "rf_pred = rf_model.predict(test_scaled)\n",
    "to_submit = pd.DataFrame({'ID': test_data['ID'], 'cc_cons': np.expm1(rf_pred)} )\n",
    "to_submit.to_csv('rf_sel.csv', index=False)\n",
    "to_submit.head()"
   ]
  },
  {
   "cell_type": "code",
   "execution_count": 72,
   "metadata": {},
   "outputs": [
    {
     "name": "stdout",
     "output_type": "stream",
     "text": [
      "1.6162431741903436\n"
     ]
    }
   ],
   "source": [
    "grid_lasso_m.fit(X = X_train,y =y_train)\n",
    "lasso_pred = grid_lasso_m.predict(X_test)\n",
    "print(rmsle(np.expm1(y_test), np.expm1(lasso_pred)))"
   ]
  },
  {
   "cell_type": "code",
   "execution_count": 73,
   "metadata": {},
   "outputs": [
    {
     "data": {
      "text/html": [
       "<div>\n",
       "<style scoped>\n",
       "    .dataframe tbody tr th:only-of-type {\n",
       "        vertical-align: middle;\n",
       "    }\n",
       "\n",
       "    .dataframe tbody tr th {\n",
       "        vertical-align: top;\n",
       "    }\n",
       "\n",
       "    .dataframe thead th {\n",
       "        text-align: right;\n",
       "    }\n",
       "</style>\n",
       "<table border=\"1\" class=\"dataframe\">\n",
       "  <thead>\n",
       "    <tr style=\"text-align: right;\">\n",
       "      <th></th>\n",
       "      <th>ID</th>\n",
       "      <th>cc_cons</th>\n",
       "    </tr>\n",
       "  </thead>\n",
       "  <tbody>\n",
       "    <tr>\n",
       "      <th>0</th>\n",
       "      <td>17591</td>\n",
       "      <td>15767.445396</td>\n",
       "    </tr>\n",
       "    <tr>\n",
       "      <th>1</th>\n",
       "      <td>13541</td>\n",
       "      <td>16705.317858</td>\n",
       "    </tr>\n",
       "    <tr>\n",
       "      <th>2</th>\n",
       "      <td>13431</td>\n",
       "      <td>14893.980453</td>\n",
       "    </tr>\n",
       "    <tr>\n",
       "      <th>3</th>\n",
       "      <td>8687</td>\n",
       "      <td>15450.734024</td>\n",
       "    </tr>\n",
       "    <tr>\n",
       "      <th>4</th>\n",
       "      <td>14727</td>\n",
       "      <td>14710.429098</td>\n",
       "    </tr>\n",
       "  </tbody>\n",
       "</table>\n",
       "</div>"
      ],
      "text/plain": [
       "      ID       cc_cons\n",
       "0  17591  15767.445396\n",
       "1  13541  16705.317858\n",
       "2  13431  14893.980453\n",
       "3   8687  15450.734024\n",
       "4  14727  14710.429098"
      ]
     },
     "execution_count": 73,
     "metadata": {},
     "output_type": "execute_result"
    }
   ],
   "source": [
    "l1_pred = grid_lasso_m.predict(test_scaled)\n",
    "to_submit = pd.DataFrame({'ID': test_data['ID'], 'cc_cons': np.expm1(l1_pred)} )\n",
    "to_submit.to_csv('lasso_sel.csv', index=False)\n",
    "to_submit.head()"
   ]
  },
  {
   "cell_type": "markdown",
   "metadata": {},
   "source": [
    "### Till now we are getting RMSLE of 1.61. Applying boosting for improvement"
   ]
  },
  {
   "cell_type": "code",
   "execution_count": 78,
   "metadata": {},
   "outputs": [
    {
     "data": {
      "text/plain": [
       "GradientBoostingRegressor(alpha=0.9, criterion='friedman_mse', init=None,\n",
       "                          learning_rate=0.01, loss='ls', max_depth=4,\n",
       "                          max_features=None, max_leaf_nodes=None,\n",
       "                          min_impurity_decrease=0.0, min_impurity_split=None,\n",
       "                          min_samples_leaf=1, min_samples_split=2,\n",
       "                          min_weight_fraction_leaf=0.0, n_estimators=500,\n",
       "                          n_iter_no_change=None, presort='auto',\n",
       "                          random_state=None, subsample=1.0, tol=0.0001,\n",
       "                          validation_fraction=0.1, verbose=0, warm_start=False)"
      ]
     },
     "execution_count": 78,
     "metadata": {},
     "output_type": "execute_result"
    }
   ],
   "source": [
    "params = {'n_estimators': 500, 'max_depth': 4, 'min_samples_split': 2,\n",
    "          'learning_rate': 0.01, 'loss': 'ls'}\n",
    "gb_model = ensemble.GradientBoostingRegressor(**params)\n",
    "\n",
    "gb_model.fit(X_train, y_train)"
   ]
  },
  {
   "cell_type": "code",
   "execution_count": 79,
   "metadata": {},
   "outputs": [],
   "source": [
    "gb_pred = gb_model.predict(X_test)"
   ]
  },
  {
   "cell_type": "code",
   "execution_count": 81,
   "metadata": {},
   "outputs": [
    {
     "name": "stdout",
     "output_type": "stream",
     "text": [
      "1.6246646981978385\n"
     ]
    }
   ],
   "source": [
    "print(rmsle(np.expm1(y_test), np.expm1(gb_pred)))"
   ]
  },
  {
   "cell_type": "code",
   "execution_count": 34,
   "metadata": {},
   "outputs": [],
   "source": [
    "model = RandomForestRegressor(bootstrap=True, criterion='mse', max_depth=90,\n",
    "                      max_features=2, max_leaf_nodes=None,\n",
    "                      min_impurity_decrease=0.0, min_impurity_split=None,\n",
    "                      min_samples_leaf=5, min_samples_split=12,\n",
    "                      min_weight_fraction_leaf=0.0, n_estimators=200,\n",
    "                      n_jobs=None, oob_score=False, random_state=None,\n",
    "                      verbose=0, warm_start=False)"
   ]
  },
  {
   "cell_type": "code",
   "execution_count": 35,
   "metadata": {},
   "outputs": [
    {
     "data": {
      "text/plain": [
       "RandomForestRegressor(bootstrap=True, criterion='mse', max_depth=90,\n",
       "                      max_features=2, max_leaf_nodes=None,\n",
       "                      min_impurity_decrease=0.0, min_impurity_split=None,\n",
       "                      min_samples_leaf=5, min_samples_split=12,\n",
       "                      min_weight_fraction_leaf=0.0, n_estimators=200,\n",
       "                      n_jobs=None, oob_score=False, random_state=None,\n",
       "                      verbose=0, warm_start=False)"
      ]
     },
     "execution_count": 35,
     "metadata": {},
     "output_type": "execute_result"
    }
   ],
   "source": [
    "model.fit(X_train,y_train)"
   ]
  },
  {
   "cell_type": "code",
   "execution_count": 36,
   "metadata": {},
   "outputs": [],
   "source": [
    "pred = model.predict(X_test)"
   ]
  },
  {
   "cell_type": "code",
   "execution_count": 37,
   "metadata": {},
   "outputs": [
    {
     "name": "stdout",
     "output_type": "stream",
     "text": [
      "1.6264676183479878\n"
     ]
    }
   ],
   "source": [
    "print(rmsle(np.expm1(y_test), np.expm1(pred)))"
   ]
  },
  {
   "cell_type": "code",
   "execution_count": 52,
   "metadata": {},
   "outputs": [
    {
     "name": "stdout",
     "output_type": "stream",
     "text": [
      "Feature ranking:\n",
      "1. credit_amount_jun (0.033035)\n",
      "2. cc_cons_may (0.032826)\n",
      "3. debit_amount_may (0.032551)\n",
      "4. max_credit_amount_jun (0.032197)\n",
      "5. debit_amount_jun (0.032148)\n",
      "6. dc_cons_apr (0.032090)\n",
      "7. dc_cons_jun (0.032030)\n",
      "8. cc_cons_jun (0.032028)\n",
      "9. max_credit_amount_may (0.032016)\n",
      "10. emi_active (0.031959)\n",
      "11. investment_2 (0.031786)\n",
      "12. max_credit_amount_apr (0.031781)\n",
      "13. cc_cons_apr (0.031577)\n",
      "14. credit_amount_apr (0.031508)\n",
      "15. dc_cons_may (0.031357)\n",
      "16. investment_1 (0.031117)\n",
      "17. investment_3 (0.031094)\n",
      "18. credit_amount_may (0.031046)\n",
      "19. debit_amount_apr (0.030554)\n",
      "20. card_lim (0.029943)\n",
      "21. investment_4 (0.028971)\n",
      "22. debit_count_jun (0.026988)\n",
      "23. debit_count_apr (0.026967)\n",
      "24. debit_count_may (0.026740)\n",
      "25. cc_count_may (0.026340)\n",
      "26. cc_count_jun (0.026122)\n",
      "27. dc_count_jun (0.026020)\n",
      "28. cc_count_apr (0.025593)\n",
      "29. age (0.025224)\n",
      "30. dc_count_apr (0.024497)\n",
      "31. credit_count_jun (0.023661)\n",
      "32. dc_count_may (0.023089)\n",
      "33. credit_count_may (0.022445)\n",
      "34. credit_count_apr (0.022241)\n",
      "35. account_type_current (0.002803)\n",
      "36. account_type_saving (0.002693)\n",
      "37. gender_M (0.002566)\n",
      "38. gender_F (0.002396)\n"
     ]
    },
    {
     "data": {
      "image/png": "[encoded data removed]",
      "text/plain": [
       "<Figure size 432x288 with 1 Axes>"
      ]
     },
     "metadata": {
      "needs_background": "light"
     },
     "output_type": "display_data"
    }
   ],
   "source": [
    "importances = model.feature_importances_\n",
    "std = np.std([tree.feature_importances_ for tree in model.estimators_],\n",
    "             axis=0)\n",
    "indices = np.argsort(importances)[::-1]\n",
    "\n",
    "# Print the feature ranking\n",
    "print(\"Feature ranking:\")\n",
    "\n",
    "for f in range(X.shape[1]):\n",
    "    print(\"%d. %s (%f)\" % (f + 1, X.columns[indices[f]], importances[indices[f]]))\n",
    "\n",
    "# Plot the feature importances of the forest\n",
    "plt.figure()\n",
    "plt.title(\"Feature importances\")\n",
    "plt.bar(range(X.shape[1]), importances[indices],\n",
    "       color=\"r\", yerr=std[indices], align=\"center\")\n",
    "plt.xticks(range(X.shape[1]), indices)\n",
    "plt.xlim([-1, X.shape[1]])\n",
    "plt.show()"
   ]
  },
  {
   "cell_type": "code",
   "execution_count": 44,
   "metadata": {},
   "outputs": [
    {
     "data": {
      "text/plain": [
       "Index(['age', 'cc_cons_apr', 'dc_cons_apr', 'cc_cons_may', 'dc_cons_may',\n",
       "       'cc_cons_jun', 'dc_cons_jun', 'cc_count_apr', 'cc_count_may',\n",
       "       'cc_count_jun', 'dc_count_apr', 'dc_count_may', 'dc_count_jun',\n",
       "       'card_lim', 'investment_1', 'investment_2', 'investment_3',\n",
       "       'investment_4', 'debit_amount_apr', 'credit_amount_apr',\n",
       "       'debit_count_apr', 'credit_count_apr', 'max_credit_amount_apr',\n",
       "       'debit_amount_may', 'credit_amount_may', 'credit_count_may',\n",
       "       'debit_count_may', 'max_credit_amount_may', 'debit_amount_jun',\n",
       "       'credit_amount_jun', 'credit_count_jun', 'debit_count_jun',\n",
       "       'max_credit_amount_jun', 'emi_active', 'account_type_current',\n",
       "       'account_type_saving', 'gender_F', 'gender_M'],\n",
       "      dtype='object')"
      ]
     },
     "execution_count": 44,
     "metadata": {},
     "output_type": "execute_result"
    }
   ],
   "source": [
    "X.columns"
   ]
  },
  {
   "cell_type": "code",
   "execution_count": 55,
   "metadata": {},
   "outputs": [],
   "source": [
    "lgb_train = lgb.Dataset(X_train, y_train)\n",
    "lgb_eval = lgb.Dataset(X_test, y_test, reference=lgb_train)"
   ]
  },
  {
   "cell_type": "code",
   "execution_count": 56,
   "metadata": {},
   "outputs": [],
   "source": [
    "params = {\n",
    "    'boosting_type': 'gbdt',\n",
    "    'objective': 'regression',\n",
    "    'metric': {'l2', 'l1'},\n",
    "    'num_leaves': 31,\n",
    "    'learning_rate': 0.05,\n",
    "    'feature_fraction': 0.9,\n",
    "    'bagging_fraction': 0.8,\n",
    "    'bagging_freq': 5,\n",
    "    'verbose': 0\n",
    "}"
   ]
  },
  {
   "cell_type": "code",
   "execution_count": 57,
   "metadata": {},
   "outputs": [
    {
     "name": "stdout",
     "output_type": "stream",
     "text": [
      "[1]\tvalid_0's l1: 1.16297\tvalid_0's l2: 2.62885\n",
      "Training until validation scores don't improve for 5 rounds\n",
      "[2]\tvalid_0's l1: 1.16276\tvalid_0's l2: 2.628\n",
      "[3]\tvalid_0's l1: 1.1628\tvalid_0's l2: 2.62722\n",
      "[4]\tvalid_0's l1: 1.16272\tvalid_0's l2: 2.62694\n",
      "[5]\tvalid_0's l1: 1.16291\tvalid_0's l2: 2.62845\n",
      "[6]\tvalid_0's l1: 1.16324\tvalid_0's l2: 2.62877\n",
      "[7]\tvalid_0's l1: 1.16332\tvalid_0's l2: 2.62834\n",
      "[8]\tvalid_0's l1: 1.16369\tvalid_0's l2: 2.62951\n",
      "[9]\tvalid_0's l1: 1.16406\tvalid_0's l2: 2.62981\n",
      "Early stopping, best iteration is:\n",
      "[4]\tvalid_0's l1: 1.16272\tvalid_0's l2: 2.62694\n"
     ]
    }
   ],
   "source": [
    "gbm = lgb.train(params,\n",
    "                lgb_train,\n",
    "                num_boost_round=20,\n",
    "                valid_sets=lgb_eval,\n",
    "                early_stopping_rounds=5)"
   ]
  },
  {
   "cell_type": "code",
   "execution_count": 58,
   "metadata": {},
   "outputs": [],
   "source": [
    "y_pred = gbm.predict(X_test, num_iteration=gbm.best_iteration)"
   ]
  },
  {
   "cell_type": "code",
   "execution_count": 60,
   "metadata": {},
   "outputs": [
    {
     "name": "stdout",
     "output_type": "stream",
     "text": [
      "1.6207829177415098\n"
     ]
    }
   ],
   "source": [
    "print(rmsle(np.expm1(y_test), np.expm1(y_pred)))"
   ]
  },
  {
   "cell_type": "code",
   "execution_count": 62,
   "metadata": {},
   "outputs": [
    {
     "data": {
      "text/html": [
       "<div>\n",
       "<style scoped>\n",
       "    .dataframe tbody tr th:only-of-type {\n",
       "        vertical-align: middle;\n",
       "    }\n",
       "\n",
       "    .dataframe tbody tr th {\n",
       "        vertical-align: top;\n",
       "    }\n",
       "\n",
       "    .dataframe thead th {\n",
       "        text-align: right;\n",
       "    }\n",
       "</style>\n",
       "<table border=\"1\" class=\"dataframe\">\n",
       "  <thead>\n",
       "    <tr style=\"text-align: right;\">\n",
       "      <th></th>\n",
       "      <th>age</th>\n",
       "      <th>cc_cons_apr</th>\n",
       "      <th>dc_cons_apr</th>\n",
       "      <th>cc_cons_may</th>\n",
       "      <th>dc_cons_may</th>\n",
       "      <th>cc_cons_jun</th>\n",
       "      <th>dc_cons_jun</th>\n",
       "      <th>cc_count_apr</th>\n",
       "      <th>cc_count_may</th>\n",
       "      <th>cc_count_jun</th>\n",
       "      <th>...</th>\n",
       "      <th>debit_amount_jun</th>\n",
       "      <th>credit_amount_jun</th>\n",
       "      <th>credit_count_jun</th>\n",
       "      <th>debit_count_jun</th>\n",
       "      <th>max_credit_amount_jun</th>\n",
       "      <th>emi_active</th>\n",
       "      <th>account_type_current</th>\n",
       "      <th>account_type_saving</th>\n",
       "      <th>gender_F</th>\n",
       "      <th>gender_M</th>\n",
       "    </tr>\n",
       "  </thead>\n",
       "  <tbody>\n",
       "    <tr>\n",
       "      <th>0</th>\n",
       "      <td>-0.385203</td>\n",
       "      <td>-1.140645</td>\n",
       "      <td>-0.897598</td>\n",
       "      <td>-0.266204</td>\n",
       "      <td>-1.493851</td>\n",
       "      <td>0.336163</td>\n",
       "      <td>1.372493</td>\n",
       "      <td>-0.859940</td>\n",
       "      <td>-0.536575</td>\n",
       "      <td>-1.581341</td>\n",
       "      <td>...</td>\n",
       "      <td>-0.439615</td>\n",
       "      <td>-0.329553</td>\n",
       "      <td>-0.968261</td>\n",
       "      <td>-0.821862</td>\n",
       "      <td>-0.114502</td>\n",
       "      <td>-0.805287</td>\n",
       "      <td>1</td>\n",
       "      <td>0</td>\n",
       "      <td>0</td>\n",
       "      <td>1</td>\n",
       "    </tr>\n",
       "    <tr>\n",
       "      <th>1</th>\n",
       "      <td>-0.800133</td>\n",
       "      <td>1.042641</td>\n",
       "      <td>-0.695185</td>\n",
       "      <td>-1.445788</td>\n",
       "      <td>-0.339122</td>\n",
       "      <td>0.505836</td>\n",
       "      <td>-1.043106</td>\n",
       "      <td>-1.045309</td>\n",
       "      <td>-0.536575</td>\n",
       "      <td>-1.581341</td>\n",
       "      <td>...</td>\n",
       "      <td>-1.287067</td>\n",
       "      <td>-0.963840</td>\n",
       "      <td>-0.437775</td>\n",
       "      <td>0.278711</td>\n",
       "      <td>-0.871415</td>\n",
       "      <td>1.125230</td>\n",
       "      <td>1</td>\n",
       "      <td>0</td>\n",
       "      <td>0</td>\n",
       "      <td>1</td>\n",
       "    </tr>\n",
       "    <tr>\n",
       "      <th>2</th>\n",
       "      <td>0.925696</td>\n",
       "      <td>-0.434391</td>\n",
       "      <td>0.425042</td>\n",
       "      <td>-1.011962</td>\n",
       "      <td>-1.382914</td>\n",
       "      <td>-2.067004</td>\n",
       "      <td>0.226743</td>\n",
       "      <td>-0.469501</td>\n",
       "      <td>0.442867</td>\n",
       "      <td>-1.406152</td>\n",
       "      <td>...</td>\n",
       "      <td>-0.369276</td>\n",
       "      <td>-0.259528</td>\n",
       "      <td>-0.583902</td>\n",
       "      <td>-1.078774</td>\n",
       "      <td>-0.792283</td>\n",
       "      <td>-0.216222</td>\n",
       "      <td>1</td>\n",
       "      <td>0</td>\n",
       "      <td>0</td>\n",
       "      <td>1</td>\n",
       "    </tr>\n",
       "    <tr>\n",
       "      <th>3</th>\n",
       "      <td>-0.800133</td>\n",
       "      <td>-1.403360</td>\n",
       "      <td>1.336252</td>\n",
       "      <td>1.304573</td>\n",
       "      <td>-2.740619</td>\n",
       "      <td>-0.384820</td>\n",
       "      <td>1.602849</td>\n",
       "      <td>-1.621116</td>\n",
       "      <td>1.550013</td>\n",
       "      <td>0.981537</td>\n",
       "      <td>...</td>\n",
       "      <td>0.817025</td>\n",
       "      <td>0.922901</td>\n",
       "      <td>0.647749</td>\n",
       "      <td>-3.333509</td>\n",
       "      <td>0.915314</td>\n",
       "      <td>-1.705408</td>\n",
       "      <td>1</td>\n",
       "      <td>0</td>\n",
       "      <td>0</td>\n",
       "      <td>1</td>\n",
       "    </tr>\n",
       "    <tr>\n",
       "      <th>4</th>\n",
       "      <td>1.500759</td>\n",
       "      <td>-0.995480</td>\n",
       "      <td>-0.048139</td>\n",
       "      <td>-0.868599</td>\n",
       "      <td>-0.257422</td>\n",
       "      <td>-0.605046</td>\n",
       "      <td>0.412503</td>\n",
       "      <td>-1.284291</td>\n",
       "      <td>-0.536575</td>\n",
       "      <td>0.591935</td>\n",
       "      <td>...</td>\n",
       "      <td>-0.970934</td>\n",
       "      <td>-0.048973</td>\n",
       "      <td>-0.437775</td>\n",
       "      <td>0.175540</td>\n",
       "      <td>0.377587</td>\n",
       "      <td>-0.165147</td>\n",
       "      <td>1</td>\n",
       "      <td>0</td>\n",
       "      <td>0</td>\n",
       "      <td>1</td>\n",
       "    </tr>\n",
       "  </tbody>\n",
       "</table>\n",
       "<p>5 rows × 38 columns</p>\n",
       "</div>"
      ],
      "text/plain": [
       "        age  cc_cons_apr  dc_cons_apr  cc_cons_may  dc_cons_may  cc_cons_jun  \\\n",
       "0 -0.385203    -1.140645    -0.897598    -0.266204    -1.493851     0.336163   \n",
       "1 -0.800133     1.042641    -0.695185    -1.445788    -0.339122     0.505836   \n",
       "2  0.925696    -0.434391     0.425042    -1.011962    -1.382914    -2.067004   \n",
       "3 -0.800133    -1.403360     1.336252     1.304573    -2.740619    -0.384820   \n",
       "4  1.500759    -0.995480    -0.048139    -0.868599    -0.257422    -0.605046   \n",
       "\n",
       "   dc_cons_jun  cc_count_apr  cc_count_may  cc_count_jun  ...  \\\n",
       "0     1.372493     -0.859940     -0.536575     -1.581341  ...   \n",
       "1    -1.043106     -1.045309     -0.536575     -1.581341  ...   \n",
       "2     0.226743     -0.469501      0.442867     -1.406152  ...   \n",
       "3     1.602849     -1.621116      1.550013      0.981537  ...   \n",
       "4     0.412503     -1.284291     -0.536575      0.591935  ...   \n",
       "\n",
       "   debit_amount_jun  credit_amount_jun  credit_count_jun  debit_count_jun  \\\n",
       "0         -0.439615          -0.329553         -0.968261        -0.821862   \n",
       "1         -1.287067          -0.963840         -0.437775         0.278711   \n",
       "2         -0.369276          -0.259528         -0.583902        -1.078774   \n",
       "3          0.817025           0.922901          0.647749        -3.333509   \n",
       "4         -0.970934          -0.048973         -0.437775         0.175540   \n",
       "\n",
       "   max_credit_amount_jun  emi_active  account_type_current  \\\n",
       "0              -0.114502   -0.805287                     1   \n",
       "1              -0.871415    1.125230                     1   \n",
       "2              -0.792283   -0.216222                     1   \n",
       "3               0.915314   -1.705408                     1   \n",
       "4               0.377587   -0.165147                     1   \n",
       "\n",
       "   account_type_saving  gender_F  gender_M  \n",
       "0                    0         0         1  \n",
       "1                    0         0         1  \n",
       "2                    0         0         1  \n",
       "3                    0         0         1  \n",
       "4                    0         0         1  \n",
       "\n",
       "[5 rows x 38 columns]"
      ]
     },
     "execution_count": 62,
     "metadata": {},
     "output_type": "execute_result"
    }
   ],
   "source": [
    "test_data = pd.read_csv('Test.csv')\n",
    "test_scaled = custom_pipeline(test_data, scaler_train)\n",
    "test_scaled.head()"
   ]
  },
  {
   "cell_type": "code",
   "execution_count": 61,
   "metadata": {},
   "outputs": [
    {
     "ename": "NameError",
     "evalue": "name 'test_data' is not defined",
     "output_type": "error",
     "traceback": [
      "\u001b[1;31m---------------------------------------------------------------------------\u001b[0m",
      "\u001b[1;31mNameError\u001b[0m                                 Traceback (most recent call last)",
      "\u001b[1;32m<ipython-input-61-fd5857e12979>\u001b[0m in \u001b[0;36m<module>\u001b[1;34m\u001b[0m\n\u001b[1;32m----> 1\u001b[1;33m \u001b[0mto_submit\u001b[0m \u001b[1;33m=\u001b[0m \u001b[0mpd\u001b[0m\u001b[1;33m.\u001b[0m\u001b[0mDataFrame\u001b[0m\u001b[1;33m(\u001b[0m\u001b[1;33m{\u001b[0m\u001b[1;34m'ID'\u001b[0m\u001b[1;33m:\u001b[0m \u001b[0mtest_data\u001b[0m\u001b[1;33m[\u001b[0m\u001b[1;34m'ID'\u001b[0m\u001b[1;33m]\u001b[0m\u001b[1;33m,\u001b[0m \u001b[1;34m'cc_cons'\u001b[0m\u001b[1;33m:\u001b[0m \u001b[0mnp\u001b[0m\u001b[1;33m.\u001b[0m\u001b[0mexpm1\u001b[0m\u001b[1;33m(\u001b[0m\u001b[0my_pred\u001b[0m\u001b[1;33m)\u001b[0m\u001b[1;33m}\u001b[0m \u001b[1;33m)\u001b[0m\u001b[1;33m\u001b[0m\u001b[1;33m\u001b[0m\u001b[0m\n\u001b[0m\u001b[0;32m      2\u001b[0m \u001b[0mto_submit\u001b[0m\u001b[1;33m.\u001b[0m\u001b[0mto_csv\u001b[0m\u001b[1;33m(\u001b[0m\u001b[1;34m'lgbm_pred.csv'\u001b[0m\u001b[1;33m,\u001b[0m \u001b[0mindex\u001b[0m\u001b[1;33m=\u001b[0m\u001b[1;32mFalse\u001b[0m\u001b[1;33m)\u001b[0m\u001b[1;33m\u001b[0m\u001b[1;33m\u001b[0m\u001b[0m\n\u001b[0;32m      3\u001b[0m \u001b[0mto_submit\u001b[0m\u001b[1;33m.\u001b[0m\u001b[0mhead\u001b[0m\u001b[1;33m(\u001b[0m\u001b[1;33m)\u001b[0m\u001b[1;33m\u001b[0m\u001b[1;33m\u001b[0m\u001b[0m\n",
      "\u001b[1;31mNameError\u001b[0m: name 'test_data' is not defined"
     ]
    }
   ],
   "source": [
    "to_submit = pd.DataFrame({'ID': test_data['ID'], 'cc_cons': np.expm1(y_pred)} )\n",
    "to_submit.to_csv('lgbm_pred.csv', index=False)\n",
    "to_submit.head()"
   ]
  },
  {
   "cell_type": "code",
   "execution_count": null,
   "metadata": {},
   "outputs": [],
   "source": []
  }
 ],
 "metadata": {
  "kernelspec": {
   "display_name": "Python 3",
   "language": "python",
   "name": "python3"
  },
  "language_info": {
   "codemirror_mode": {
    "name": "ipython",
    "version": 3
   },
   "file_extension": ".py",
   "mimetype": "text/x-python",
   "name": "python",
   "nbconvert_exporter": "python",
   "pygments_lexer": "ipython3",
   "version": "3.7.3"
  }
 },
 "nbformat": 4,
 "nbformat_minor": 2
}
